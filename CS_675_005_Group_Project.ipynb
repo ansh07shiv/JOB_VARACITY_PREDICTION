{
  "nbformat": 4,
  "nbformat_minor": 0,
  "metadata": {
    "colab": {
      "provenance": [],
      "collapsed_sections": [
        "yodSrFlZKxjX",
        "M4X3HH7CKnNn",
        "8yeGNccFlDhW",
        "wf59F70unDcn"
      ]
    },
    "kernelspec": {
      "name": "python3",
      "display_name": "Python 3"
    },
    "language_info": {
      "name": "python"
    }
  },
  "cells": [
    {
      "cell_type": "markdown",
      "source": [
        "# **CS 675-005  -  GROUP PROJECT: PREDICTING THE VERACITY OF JOB DESCRIPTIONS**"
      ],
      "metadata": {
        "id": "Xxp5rA8UK7rL"
      }
    },
    {
      "cell_type": "markdown",
      "source": [
        "## **Part 1: Exploratory Data Analysis:**"
      ],
      "metadata": {
        "id": "yodSrFlZKxjX"
      }
    },
    {
      "cell_type": "code",
      "execution_count": null,
      "metadata": {
        "id": "3GAlMBxayBgh"
      },
      "outputs": [],
      "source": [
        "# Load packages\n",
        "import pandas as pd\n",
        "import numpy as np\n",
        "import matplotlib.pyplot as plt\n",
        "\n",
        "# Read the dataset, delete the \"job_id\" column and replace any missing values in the data with \"Not listed\"\n",
        "data = pd.read_csv(\"fake_job_postings.csv\")\n",
        "data = data.drop(columns=[\"job_id\"])\n",
        "data = data.replace(np.nan, \"Not Listed\")"
      ]
    },
    {
      "cell_type": "markdown",
      "source": [
        "Categorical variables:"
      ],
      "metadata": {
        "id": "9WkP5Tis-ThS"
      }
    },
    {
      "cell_type": "code",
      "source": [
        "# Select the \"fraudulent\" variable and plot its distribution, \n",
        "fraudulent = data[\"fraudulent\"].astype(str)\n",
        "# Plot its distribution, showing \"Legitimate\" in lightgreen and \"Fraudulent\" in red\n",
        "plt.bar(fraudulent.unique(), fraudulent.value_counts(), color = [\"lightgreen\", \"red\"])\n",
        "plt.show()"
      ],
      "metadata": {
        "id": "IA-WNITt-gUa",
        "colab": {
          "base_uri": "https://localhost:8080/",
          "height": 265
        },
        "outputId": "61c402da-67bd-4d3c-f716-362b07950f9a"
      },
      "execution_count": null,
      "outputs": [
        {
          "output_type": "display_data",
          "data": {
            "text/plain": [
              "<Figure size 432x288 with 1 Axes>"
            ],
            "image/png": "[encoded data removed]"
          },
          "metadata": {
            "needs_background": "light"
          }
        }
      ]
    },
    {
      "cell_type": "code",
      "source": [
        "# Create an array of the names of the other binary variables in our dataset\n",
        "binary_variables = [\"telecommuting\", \"has_company_logo\", \"has_questions\"]\n",
        "\n",
        "# For each of these binary variables\n",
        "for variable in binary_variables:\n",
        "  # Select and find the count of the legitimate postings in each category\n",
        "  var_0 = data[data[\"fraudulent\"] == 0][variable].astype(str)\n",
        "  legitimate = var_0.value_counts().sort_index(ascending=True)\n",
        "\n",
        "  # Do the same for the fraudulent postings\n",
        "  var_1 = data[data[\"fraudulent\"] == 1][variable].astype(str)\n",
        "  fraudulent = var_1.value_counts().sort_index(ascending=True)\n",
        "\n",
        "  # Plot the distribution of the variable\n",
        "  # Show the legitimate (in green) and fraudulent (in red) postings in each category \n",
        "  fig, ax = plt.subplots(figsize=(5, 7))\n",
        "  ax.bar([\"0\", \"1\"], legitimate, label='Legitimate', color = \"lightgreen\")\n",
        "  ax.bar([\"0\", \"1\"], fraudulent, bottom= legitimate, label='Fraudulent', color = \"red\")\n",
        "  ax.set_title(variable)\n",
        "  ax.legend()\n",
        "  plt.show()\n",
        "\n",
        "  # Calculate the percetage of fraudulent postings in each category\n",
        "  print(\"Legitimate:\")\n",
        "  print(legitimate)\n",
        "  print(\"Fraudulent\")\n",
        "  print(fraudulent)"
      ],
      "metadata": {
        "id": "g7VyZ1MJcJh9",
        "colab": {
          "base_uri": "https://localhost:8080/",
          "height": 1000
        },
        "outputId": "7fe742b4-0f70-4f63-ef75-7f3e679dc6bf"
      },
      "execution_count": null,
      "outputs": [
        {
          "output_type": "display_data",
          "data": {
            "text/plain": [
              "<Figure size 360x504 with 1 Axes>"
            ],
            "image/png": "[encoded data removed]"
          },
          "metadata": {
            "needs_background": "light"
          }
        },
        {
          "output_type": "stream",
          "name": "stdout",
          "text": [
            "Legitimate:\n",
            "0    16311\n",
            "1      703\n",
            "Name: telecommuting, dtype: int64\n",
            "Fraudulent\n",
            "0    802\n",
            "1     64\n",
            "Name: telecommuting, dtype: int64\n"
          ]
        },
        {
          "output_type": "display_data",
          "data": {
            "text/plain": [
              "<Figure size 360x504 with 1 Axes>"
            ],
            "image/png": "[encoded data removed]"
          },
          "metadata": {
            "needs_background": "light"
          }
        },
        {
          "output_type": "stream",
          "name": "stdout",
          "text": [
            "Legitimate:\n",
            "0     3077\n",
            "1    13937\n",
            "Name: has_company_logo, dtype: int64\n",
            "Fraudulent\n",
            "0    583\n",
            "1    283\n",
            "Name: has_company_logo, dtype: int64\n"
          ]
        },
        {
          "output_type": "display_data",
          "data": {
            "text/plain": [
              "<Figure size 360x504 with 1 Axes>"
            ],
            "image/png": "[encoded data removed]"
          },
          "metadata": {
            "needs_background": "light"
          }
        },
        {
          "output_type": "stream",
          "name": "stdout",
          "text": [
            "Legitimate:\n",
            "0    8472\n",
            "1    8542\n",
            "Name: has_questions, dtype: int64\n",
            "Fraudulent\n",
            "0    616\n",
            "1    250\n",
            "Name: has_questions, dtype: int64\n"
          ]
        }
      ]
    },
    {
      "cell_type": "code",
      "source": [
        "# Create an array of the names of the desired categorical variables\n",
        "variables = [\"employment_type\", \"required_experience\"]\n",
        "\n",
        "# For each of these categorical variables\n",
        "for var in variables:\n",
        "  # Select and find the count of the legitimate postings in each category\n",
        "  var_0 = data[data[\"fraudulent\"] == 0][var]\n",
        "  legitimate = var_0.value_counts().sort_index(ascending=True)\n",
        "  \n",
        "  # Do the same for the fraudulent postings\n",
        "  var_1 = data[data[\"fraudulent\"] == 1][var]\n",
        "  fraudulent = var_1.value_counts().sort_index(ascending=True)\n",
        "\n",
        "  # Plot the distribution of the variable\n",
        "  # Show the legitimate (in green) and fraudulent (in red) postings in each category \n",
        "  fig, ax = plt.subplots(figsize=(11, 11))\n",
        "  ax.bar(sorted(data[var].unique()), legitimate, label='Legitimate', color = \"lightgreen\")\n",
        "  ax.bar(sorted(data[var].unique()), fraudulent, bottom= legitimate, label='Fraudulent', color = \"red\")\n",
        "  ax.set_title(var)\n",
        "  ax.legend()\n",
        "  plt.show()\n",
        "\n",
        "  print(\"Legitimate:\")\n",
        "  print(legitimate)\n",
        "  print(\"Fraudulent\")\n",
        "  print(fraudulent)"
      ],
      "metadata": {
        "id": "0rcDhodW-oqD",
        "colab": {
          "base_uri": "https://localhost:8080/",
          "height": 1000
        },
        "outputId": "d5f40c9e-b125-4ed3-f553-98ea0836672b"
      },
      "execution_count": null,
      "outputs": [
        {
          "output_type": "display_data",
          "data": {
            "text/plain": [
              "<Figure size 792x792 with 1 Axes>"
            ],
            "image/png": "[encoded data removed]"
          },
          "metadata": {
            "needs_background": "light"
          }
        },
        {
          "output_type": "stream",
          "name": "stdout",
          "text": [
            "Legitimate:\n",
            "Contract       1480\n",
            "Full-time     11130\n",
            "Not Listed     3230\n",
            "Other           212\n",
            "Part-time       723\n",
            "Temporary       239\n",
            "Name: employment_type, dtype: int64\n",
            "Fraudulent\n",
            "Contract       44\n",
            "Full-time     490\n",
            "Not Listed    241\n",
            "Other          15\n",
            "Part-time      74\n",
            "Temporary       2\n",
            "Name: employment_type, dtype: int64\n"
          ]
        },
        {
          "output_type": "display_data",
          "data": {
            "text/plain": [
              "<Figure size 792x792 with 1 Axes>"
            ],
            "image/png": "[encoded data removed]"
          },
          "metadata": {
            "needs_background": "light"
          }
        },
        {
          "output_type": "stream",
          "name": "stdout",
          "text": [
            "Legitimate:\n",
            "Associate           2255\n",
            "Director             372\n",
            "Entry level         2518\n",
            "Executive            131\n",
            "Internship           371\n",
            "Mid-Senior level    3696\n",
            "Not Applicable      1056\n",
            "Not Listed          6615\n",
            "Name: required_experience, dtype: int64\n",
            "Fraudulent\n",
            "Associate            42\n",
            "Director             17\n",
            "Entry level         179\n",
            "Executive            10\n",
            "Internship           10\n",
            "Mid-Senior level    113\n",
            "Not Applicable       60\n",
            "Not Listed          435\n",
            "Name: required_experience, dtype: int64\n"
          ]
        }
      ]
    },
    {
      "cell_type": "code",
      "source": [
        "# Select the location variable and look at its first entries\n",
        "location = data[\"location\"]\n",
        "print(\"Original format\")\n",
        "print(location.head())"
      ],
      "metadata": {
        "id": "9y4telFWG_YA",
        "colab": {
          "base_uri": "https://localhost:8080/"
        },
        "outputId": "a64d010c-5bc5-4109-cd82-e2119598bb95"
      },
      "execution_count": null,
      "outputs": [
        {
          "output_type": "stream",
          "name": "stdout",
          "text": [
            "Original format\n",
            "0      US, NY, New York\n",
            "1        NZ, , Auckland\n",
            "2         US, IA, Wever\n",
            "3    US, DC, Washington\n",
            "4    US, FL, Fort Worth\n",
            "Name: location, dtype: object\n"
          ]
        }
      ]
    },
    {
      "cell_type": "code",
      "source": [
        "# Overwrite the location variable with the first two characters of each entry\n",
        "data[\"location\"] = data[\"location\"].str[0:2]\n",
        "# Find the number of unique countries\n",
        "print(\"# Unique countries\", len(data[\"location\"].unique()))\n",
        "# Find the number of unique countries where there's fraud\n",
        "print(\"# Unique countries where there's fraud\", len(data[data[\"fraudulent\"] == 1][\"location\"].unique()))"
      ],
      "metadata": {
        "id": "Dkp0ilnE76Lx",
        "colab": {
          "base_uri": "https://localhost:8080/"
        },
        "outputId": "d3eefafb-48ce-4e39-8b76-2ccf712403ce"
      },
      "execution_count": null,
      "outputs": [
        {
          "output_type": "stream",
          "name": "stdout",
          "text": [
            "# Unique countries 91\n",
            "# Unique countries where there's fraud 21\n"
          ]
        }
      ]
    },
    {
      "cell_type": "code",
      "source": [
        "# Find how many jobs were posted without specifying department\n",
        "print(\"# Jobs posted without department:\", len(data[data[\"department\"] == \"Not Listed\"]))\n",
        "\n",
        "# Find how many jobs of the posted without specifying department are fraudulent\n",
        "print(\"# Fraudulent jobs posted without department:\", len(data[(data[\"department\"] == \"Not Listed\") & (data[\"fraudulent\"] == 1)]))\n",
        "\n",
        "# Look at the number of unique departments\n",
        "print(\"# Unique departments: \", len(data[data[\"department\"] != \"Not Listed\"][\"department\"].unique()))"
      ],
      "metadata": {
        "id": "6NNZ5bjTU0Yb",
        "colab": {
          "base_uri": "https://localhost:8080/"
        },
        "outputId": "eb10ca7c-941d-4a7b-a704-e6512a36fc4c"
      },
      "execution_count": null,
      "outputs": [
        {
          "output_type": "stream",
          "name": "stdout",
          "text": [
            "# Jobs posted without department: 11547\n",
            "# Fraudulent jobs posted without department: 531\n",
            "# Unique departments:  1337\n"
          ]
        }
      ]
    },
    {
      "cell_type": "code",
      "source": [
        "# Find the count of the legitimate postings in each category\n",
        "print(\"Legitimate\")\n",
        "print(data[data[\"fraudulent\"] == 0][\"industry\"].value_counts())\n",
        "\n",
        "# Find the count of the fraudulent postings in each category\n",
        "print(\"\\nFraudulent\")\n",
        "print(data[data[\"fraudulent\"] == 1][\"industry\"].value_counts())\n",
        "\n",
        "# Find out the total number of Oil & Energy Postings\n",
        "print(\"\\nTotal Oil & Energy\")\n",
        "print(data[(data[\"industry\"] == \"Oil & Energy\")][\"industry\"].value_counts())"
      ],
      "metadata": {
        "id": "pdY_zxOmr74N",
        "colab": {
          "base_uri": "https://localhost:8080/"
        },
        "outputId": "7e26299f-94f2-4747-e139-3fa240b8a2c3"
      },
      "execution_count": null,
      "outputs": [
        {
          "output_type": "stream",
          "name": "stdout",
          "text": [
            "Legitimate\n",
            "Not Listed                             4628\n",
            "Information Technology and Services    1702\n",
            "Computer Software                      1371\n",
            "Internet                               1062\n",
            "Education Management                    822\n",
            "                                       ... \n",
            "Wine and Spirits                          1\n",
            "Sporting Goods                            1\n",
            "Shipbuilding                              1\n",
            "Alternative Dispute Resolution            1\n",
            "Military                                  1\n",
            "Name: industry, Length: 131, dtype: int64\n",
            "\n",
            "Fraudulent\n",
            "Not Listed                     275\n",
            "Oil & Energy                   109\n",
            "Accounting                      57\n",
            "Hospital & Health Care          51\n",
            "Marketing and Advertising       45\n",
            "                              ... \n",
            "Civic & Social Organization      1\n",
            "Public Safety                    1\n",
            "Wholesale                        1\n",
            "Consumer Goods                   1\n",
            "Online Media                     1\n",
            "Name: industry, Length: 63, dtype: int64\n",
            "\n",
            "Total Oil & Energy\n",
            "Oil & Energy    287\n",
            "Name: industry, dtype: int64\n"
          ]
        }
      ]
    },
    {
      "cell_type": "code",
      "source": [
        "# Find the count of the legitimate postings in each category\n",
        "print(\"Legitimate\")\n",
        "print(data[data[\"fraudulent\"] == 0][\"function\"].value_counts())\n",
        "\n",
        "# Find the count of the fraudulent postings in each category\n",
        "print(\"\\nFraudulent\")\n",
        "print(data[data[\"fraudulent\"] == 1][\"function\"].value_counts())"
      ],
      "metadata": {
        "id": "59aD-_Skqjn5",
        "colab": {
          "base_uri": "https://localhost:8080/"
        },
        "outputId": "d3b76bd6-10e2-43d0-de49-96f50acd553e"
      },
      "execution_count": null,
      "outputs": [
        {
          "output_type": "stream",
          "name": "stdout",
          "text": [
            "Legitimate\n",
            "Not Listed                6118\n",
            "Information Technology    1717\n",
            "Sales                     1427\n",
            "Engineering               1235\n",
            "Customer Service          1162\n",
            "Marketing                  820\n",
            "Administrative             511\n",
            "Health Care Provider       337\n",
            "Design                     337\n",
            "Education                  324\n",
            "Management                 311\n",
            "Other                      293\n",
            "Business Development       215\n",
            "Human Resources            196\n",
            "Accounting/Auditing        183\n",
            "Project Management         173\n",
            "Finance                    157\n",
            "Consulting                 140\n",
            "Writing/Editing            132\n",
            "Art/Creative               131\n",
            "Production                 116\n",
            "Product Management         114\n",
            "Quality Assurance          111\n",
            "Advertising                 85\n",
            "Business Analyst            83\n",
            "Data Analyst                78\n",
            "Public Relations            75\n",
            "Manufacturing               72\n",
            "General Business            67\n",
            "Research                    50\n",
            "Legal                       47\n",
            "Strategy/Planning           45\n",
            "Training                    38\n",
            "Supply Chain                36\n",
            "Financial Analyst           28\n",
            "Distribution                21\n",
            "Purchasing                  15\n",
            "Science                     14\n",
            "Name: function, dtype: int64\n",
            "\n",
            "Fraudulent\n",
            "Not Listed                337\n",
            "Administrative            119\n",
            "Engineering               113\n",
            "Customer Service           67\n",
            "Sales                      41\n",
            "Other                      32\n",
            "Information Technology     32\n",
            "Accounting/Auditing        29\n",
            "Finance                    15\n",
            "Business Development       13\n",
            "Marketing                  10\n",
            "Project Management         10\n",
            "Human Resources             9\n",
            "Management                  6\n",
            "Financial Analyst           5\n",
            "Advertising                 5\n",
            "Consulting                  4\n",
            "Data Analyst                4\n",
            "Distribution                3\n",
            "Design                      3\n",
            "Manufacturing               2\n",
            "Public Relations            1\n",
            "Education                   1\n",
            "Business Analyst            1\n",
            "Strategy/Planning           1\n",
            "General Business            1\n",
            "Art/Creative                1\n",
            "Health Care Provider        1\n",
            "Name: function, dtype: int64\n"
          ]
        }
      ]
    },
    {
      "cell_type": "code",
      "source": [
        "# Find the count of the legitimate postings in each category\n",
        "print(\"Legitimate\")\n",
        "print(data[data[\"fraudulent\"] == 0][\"required_education\"].value_counts())\n",
        "\n",
        "# Find the count of the fraudulent postings in each category\n",
        "print(\"\\nFraudulent\")\n",
        "print(data[data[\"fraudulent\"] == 1][\"required_education\"].value_counts())"
      ],
      "metadata": {
        "id": "3yDxScE5TmaZ",
        "colab": {
          "base_uri": "https://localhost:8080/"
        },
        "outputId": "1a292cc1-4fc9-43e8-ce33-ad4d5ed231f6"
      },
      "execution_count": null,
      "outputs": [
        {
          "output_type": "stream",
          "name": "stdout",
          "text": [
            "Legitimate\n",
            "Not Listed                           7654\n",
            "Bachelor's Degree                    5045\n",
            "High School or equivalent            1910\n",
            "Unspecified                          1336\n",
            "Master's Degree                       385\n",
            "Associate Degree                      268\n",
            "Certification                         151\n",
            "Some College Coursework Completed      99\n",
            "Professional                           70\n",
            "Vocational                             49\n",
            "Doctorate                              25\n",
            "Vocational - HS Diploma                 9\n",
            "Some High School Coursework             7\n",
            "Vocational - Degree                     6\n",
            "Name: required_education, dtype: int64\n",
            "\n",
            "Fraudulent\n",
            "Not Listed                           451\n",
            "High School or equivalent            170\n",
            "Bachelor's Degree                    100\n",
            "Unspecified                           61\n",
            "Master's Degree                       31\n",
            "Some High School Coursework           20\n",
            "Certification                         19\n",
            "Associate Degree                       6\n",
            "Professional                           4\n",
            "Some College Coursework Completed      3\n",
            "Doctorate                              1\n",
            "Name: required_education, dtype: int64\n"
          ]
        }
      ]
    },
    {
      "cell_type": "code",
      "source": [
        "# Find how many jobs didn't have a salary range\n",
        "print(\"# Jobs with no salary range:\", len(data[data[\"salary_range\"] == \"Not Listed\"]))\n",
        "\n",
        "# Find how many jobs without a salary range are fraudulent\n",
        "print(\"# Fraudulent jobs with no salary range:\", len(data[(data[\"salary_range\"] == \"Not Listed\") & (data[\"fraudulent\"] == 1)]))\n",
        "\n",
        "# Look at some of the salary range values\n",
        "print(\"\\nSalary range examples:\")\n",
        "data[data[\"salary_range\"] != \"Not Listed\"][\"salary_range\"].head(10)"
      ],
      "metadata": {
        "id": "rOyMT0hzPlv1",
        "colab": {
          "base_uri": "https://localhost:8080/"
        },
        "outputId": "a9c7f18f-f068-4ebb-b026-e63aa66c0995"
      },
      "execution_count": null,
      "outputs": [
        {
          "output_type": "stream",
          "name": "stdout",
          "text": [
            "# Jobs with no salary range: 15012\n",
            "# Fraudulent jobs with no salary range: 643\n",
            "\n",
            "Salary range examples:\n"
          ]
        },
        {
          "output_type": "execute_result",
          "data": {
            "text/plain": [
              "6       20000-28000\n",
              "10    100000-120000\n",
              "15    120000-150000\n",
              "23    100000-120000\n",
              "31      50000-65000\n",
              "42      40000-50000\n",
              "65            60-80\n",
              "76      65000-70000\n",
              "77           75-115\n",
              "79     75000-110000\n",
              "Name: salary_range, dtype: object"
            ]
          },
          "metadata": {},
          "execution_count": 18
        }
      ]
    },
    {
      "cell_type": "markdown",
      "source": [
        "Text variables:"
      ],
      "metadata": {
        "id": "6_LhiV34-Jr_"
      }
    },
    {
      "cell_type": "code",
      "source": [
        "# Find how many jobs didn't have a title\n",
        "print(\"# Jobs with no title:\", len(data[data[\"title\"] == \"Not Listed\"]))"
      ],
      "metadata": {
        "id": "lxu_l8qUOeT8",
        "colab": {
          "base_uri": "https://localhost:8080/"
        },
        "outputId": "ee4e136c-b8db-4304-b310-4950dffbf6c6"
      },
      "execution_count": null,
      "outputs": [
        {
          "output_type": "stream",
          "name": "stdout",
          "text": [
            "# Jobs with no title: 0\n"
          ]
        }
      ]
    },
    {
      "cell_type": "code",
      "source": [
        "# Find how many jobs were posted by a company without a profile\n",
        "print(\"# Jobs posted by company with no profile:\", len(data[data[\"company_profile\"] == \"Not Listed\"]))\n",
        "\n",
        "# Find how many jobs posted by a company without a profile are fraudulent\n",
        "print(\"# Fraudulent jobs posted by company with no profile:\", \n",
        "      len(data[(data[\"company_profile\"] == \"Not Listed\") & (data[\"fraudulent\"] == 1)]))"
      ],
      "metadata": {
        "id": "3BTRT9gaSFdg",
        "colab": {
          "base_uri": "https://localhost:8080/"
        },
        "outputId": "85646694-1e6c-407a-ccb9-90671c62f214"
      },
      "execution_count": null,
      "outputs": [
        {
          "output_type": "stream",
          "name": "stdout",
          "text": [
            "# Jobs posted by company with no profile: 3308\n",
            "# Fraudulent jobs posted by company with no profile: 587\n"
          ]
        }
      ]
    },
    {
      "cell_type": "code",
      "source": [
        "# Create binary version of company_profile:\n",
        "data[\"bin_company_profile\"] = data[\"company_profile\"]\n",
        "data.loc[data[\"bin_company_profile\"] == \"Not Listed\", \"bin_company_profile\"] = 0\n",
        "data.loc[data[\"bin_company_profile\"] != 0, \"bin_company_profile\"] = 1"
      ],
      "metadata": {
        "id": "hnH5RTI7_HR6"
      },
      "execution_count": null,
      "outputs": []
    },
    {
      "cell_type": "code",
      "source": [
        "# Find how many jobs didn't have a description\n",
        "print(\"# Jobs with no description:\", len(data[data[\"description\"] == \"Not Listed\"]))"
      ],
      "metadata": {
        "id": "q2bO3uvKDDQa",
        "colab": {
          "base_uri": "https://localhost:8080/"
        },
        "outputId": "9fee6919-17a2-4dff-a54f-8992a49ec03a"
      },
      "execution_count": null,
      "outputs": [
        {
          "output_type": "stream",
          "name": "stdout",
          "text": [
            "# Jobs with no description: 1\n"
          ]
        }
      ]
    },
    {
      "cell_type": "code",
      "source": [
        "# Find for how many jobs didn't have benefits\n",
        "print(\"# Jobs with no benefits:\", len(data[data[\"benefits\"] == \"Not Listed\"]))\n",
        "\n",
        "# Find how many of the jobs with no benefits are fraudulent\n",
        "print(\"# Fraudulent jobs no benefits:\", len(data[(data[\"benefits\"] == \"Not Listed\") & (data[\"fraudulent\"] == 1)]))"
      ],
      "metadata": {
        "id": "YJuKDkTjJvSp",
        "colab": {
          "base_uri": "https://localhost:8080/"
        },
        "outputId": "0046933b-b634-4652-d902-41ffb9b0f2dc"
      },
      "execution_count": null,
      "outputs": [
        {
          "output_type": "stream",
          "name": "stdout",
          "text": [
            "# Jobs with no benefits: 7210\n",
            "# Fraudulent jobs no benefits: 364\n"
          ]
        }
      ]
    },
    {
      "cell_type": "code",
      "source": [
        "# Find how many jobs didn't have requirements\n",
        "print(\"# Jobs with no requirements:\", len(data[data[\"requirements\"] == \"Not Listed\"]))\n",
        "\n",
        "# Find how many of the jobs with no requirements are fraudulent\n",
        "print(\"# Fraudulent jobs no requirements:\", len(data[(data[\"requirements\"] == \"Not Listed\") & (data[\"fraudulent\"] == 1)]))"
      ],
      "metadata": {
        "id": "Y7d6OBHJGvc6",
        "colab": {
          "base_uri": "https://localhost:8080/"
        },
        "outputId": "3914753f-8f1d-4548-b88a-88332b927f54"
      },
      "execution_count": null,
      "outputs": [
        {
          "output_type": "stream",
          "name": "stdout",
          "text": [
            "# Jobs with no requirements: 2695\n",
            "# Fraudulent jobs no requirements: 154\n"
          ]
        }
      ]
    },
    {
      "cell_type": "markdown",
      "source": [
        "## **Part 2: “Simple” Classifiers + Performance Assessment:**"
      ],
      "metadata": {
        "id": "M4X3HH7CKnNn"
      }
    },
    {
      "cell_type": "code",
      "source": [
        "# Loading packages required for part 2\n",
        "import pandas as pd\n",
        "import numpy as np\n",
        "import matplotlib.pyplot as plt\n",
        "\n",
        "\n",
        "from imblearn.over_sampling import SMOTE \n",
        "\n",
        "from sklearn.model_selection import train_test_split\n",
        "from sklearn.linear_model import LogisticRegression\n",
        "from sklearn.metrics import accuracy_score\n",
        "from sklearn.metrics import plot_confusion_matrix\n",
        "from sklearn.preprocessing import LabelEncoder\n",
        "from sklearn.ensemble import RandomForestClassifier\n",
        "\n",
        "import xgboost as xgb"
      ],
      "metadata": {
        "id": "EbZzwMe-Km55"
      },
      "execution_count": null,
      "outputs": []
    },
    {
      "cell_type": "code",
      "source": [
        "# Read the dataset, delete the \"job_id\" column and replace any missing values in the data with \"Not listed\"\n",
        "data = pd.read_csv(\"fake_job_postings.csv\")\n",
        "data = data.drop(columns=[\"job_id\"])\n",
        "data = data.replace(np.nan, \"Not Listed\")"
      ],
      "metadata": {
        "id": "pSO-TYLbLsEh"
      },
      "execution_count": null,
      "outputs": []
    },
    {
      "cell_type": "code",
      "source": [
        "# Create binary version of company_profile:\n",
        "data[\"bin_company_profile\"] = data[\"company_profile\"]\n",
        "data.loc[data[\"bin_company_profile\"] == \"Not Listed\", \"bin_company_profile\"] = 0\n",
        "data.loc[data[\"bin_company_profile\"] != 0, \"bin_company_profile\"] = 1"
      ],
      "metadata": {
        "id": "Ms4vXqMzLvgP"
      },
      "execution_count": null,
      "outputs": []
    },
    {
      "cell_type": "code",
      "source": [
        "# Considering categorical data only\n",
        "data_cat = data.drop([\"title\", \"company_profile\", \"description\", \"requirements\", \"benefits\"], axis = 1)"
      ],
      "metadata": {
        "id": "4MCn5j39Lwa-"
      },
      "execution_count": null,
      "outputs": []
    },
    {
      "cell_type": "markdown",
      "source": [
        "Considering Binary Categorical data:"
      ],
      "metadata": {
        "id": "BOraw_3FNdZL"
      }
    },
    {
      "cell_type": "code",
      "source": [
        "# Considering binary categorical data\n",
        "data_bin = data_cat[[\"telecommuting\", \"has_company_logo\", \"has_questions\", \"bin_company_profile\", \"fraudulent\"]]"
      ],
      "metadata": {
        "id": "KGGrOQUMNhej"
      },
      "execution_count": null,
      "outputs": []
    },
    {
      "cell_type": "code",
      "source": [
        "# Splitting the inputs and output of the binary categorical data.\n",
        "X = data_bin.drop([\"fraudulent\"], axis = 1)\n",
        "y = data_bin[\"fraudulent\"]"
      ],
      "metadata": {
        "id": "etfITCTLNn42"
      },
      "execution_count": null,
      "outputs": []
    },
    {
      "cell_type": "markdown",
      "source": [
        "Applying SMOTE and comparing the datasets:"
      ],
      "metadata": {
        "id": "G-rGRcedMSe-"
      }
    },
    {
      "cell_type": "code",
      "source": [
        "plt.bar(y.unique(), y.value_counts(), color = ['lightgreen', 'red'])"
      ],
      "metadata": {
        "id": "2kndafsxNts5",
        "colab": {
          "base_uri": "https://localhost:8080/",
          "height": 282
        },
        "outputId": "8f775c03-aa85-4f95-e13f-1a8638fb3b7c"
      },
      "execution_count": null,
      "outputs": [
        {
          "output_type": "execute_result",
          "data": {
            "text/plain": [
              "<BarContainer object of 2 artists>"
            ]
          },
          "metadata": {},
          "execution_count": 164
        },
        {
          "output_type": "display_data",
          "data": {
            "text/plain": [
              "<Figure size 432x288 with 1 Axes>"
            ],
            "image/png": "[encoded data removed]"
          },
          "metadata": {
            "needs_background": "light"
          }
        }
      ]
    },
    {
      "cell_type": "code",
      "source": [
        "# Applying SMOTE for the categorical features\n",
        "sm = SMOTE(random_state=0)\n",
        "X_res, y_res = sm.fit_resample(X, y)\n",
        "\n",
        "plt.bar(y_res.unique(), y_res.value_counts(), color = ['lightgreen', 'red'])"
      ],
      "metadata": {
        "id": "U1wrHIJOMbnX",
        "colab": {
          "base_uri": "https://localhost:8080/",
          "height": 282
        },
        "outputId": "d4c99d16-d50e-4685-9433-95f6857a0622"
      },
      "execution_count": null,
      "outputs": [
        {
          "output_type": "execute_result",
          "data": {
            "text/plain": [
              "<BarContainer object of 2 artists>"
            ]
          },
          "metadata": {},
          "execution_count": 165
        },
        {
          "output_type": "display_data",
          "data": {
            "text/plain": [
              "<Figure size 432x288 with 1 Axes>"
            ],
            "image/png": "[encoded data removed]"
          },
          "metadata": {
            "needs_background": "light"
          }
        }
      ]
    },
    {
      "cell_type": "code",
      "source": [
        "X_res[\"bin_company_profile\"] = X_res[\"bin_company_profile\"].astype(int)"
      ],
      "metadata": {
        "id": "6YqBCvRmPdSM"
      },
      "execution_count": null,
      "outputs": []
    },
    {
      "cell_type": "code",
      "source": [
        "# Splitting the data into training and testing after applying SMOTE\n",
        "X_train, X_test, y_train, y_test = train_test_split(X_res, y_res, test_size=0.25, random_state=0)"
      ],
      "metadata": {
        "id": "eiIX5blaLzaD"
      },
      "execution_count": null,
      "outputs": []
    },
    {
      "cell_type": "markdown",
      "source": [
        "#### Logistic Regression on Binary data:"
      ],
      "metadata": {
        "id": "bkkJNrJiOH1f"
      }
    },
    {
      "cell_type": "code",
      "source": [
        "# Logistic Regression on binary features\n",
        "log_bin = LogisticRegression(C = 0.01, penalty = 'l2', random_state=50 ,solver = 'liblinear')\n",
        "log_bin.fit(X_train, y_train)\n",
        "\n",
        "# Plotting confusion matrix for the binary categorical data after SMOTE applied\n",
        "plot_confusion_matrix(log_bin, X_test, y_test, cmap = \"Greens\")"
      ],
      "metadata": {
        "id": "NFGBKqjzOGGm",
        "colab": {
          "base_uri": "https://localhost:8080/",
          "height": 353
        },
        "outputId": "fab6f8fc-a5dd-4d66-e372-d310dea6a5a7"
      },
      "execution_count": null,
      "outputs": [
        {
          "output_type": "stream",
          "name": "stderr",
          "text": [
            "/usr/local/lib/python3.8/dist-packages/sklearn/utils/deprecation.py:87: FutureWarning: Function plot_confusion_matrix is deprecated; Function `plot_confusion_matrix` is deprecated in 1.0 and will be removed in 1.2. Use one of the class methods: ConfusionMatrixDisplay.from_predictions or ConfusionMatrixDisplay.from_estimator.\n",
            "  warnings.warn(msg, category=FutureWarning)\n"
          ]
        },
        {
          "output_type": "execute_result",
          "data": {
            "text/plain": [
              "<sklearn.metrics._plot.confusion_matrix.ConfusionMatrixDisplay at 0x7fc47cb90070>"
            ]
          },
          "metadata": {},
          "execution_count": 168
        },
        {
          "output_type": "display_data",
          "data": {
            "text/plain": [
              "<Figure size 432x288 with 2 Axes>"
            ],
            "image/png": "[encoded data removed]"
          },
          "metadata": {
            "needs_background": "light"
          }
        }
      ]
    },
    {
      "cell_type": "code",
      "source": [
        "# Checking the accuracy of the model\n",
        "accuracy_score(log_bin.predict(X_test), y_test)"
      ],
      "metadata": {
        "id": "na8qDWsuOYL3",
        "colab": {
          "base_uri": "https://localhost:8080/"
        },
        "outputId": "9874368e-1556-4078-e35f-6a1226033c1a"
      },
      "execution_count": null,
      "outputs": [
        {
          "output_type": "execute_result",
          "data": {
            "text/plain": [
              "0.7543199717879393"
            ]
          },
          "metadata": {},
          "execution_count": 169
        }
      ]
    },
    {
      "cell_type": "markdown",
      "source": [
        "#### RandomForest Classifier on Binary categorical features:"
      ],
      "metadata": {
        "id": "yFAfRPOjOs5S"
      }
    },
    {
      "cell_type": "code",
      "source": [
        "# Random Forest Classifier\n",
        "rfc = RandomForestClassifier(n_estimators = 1000, \n",
        "                             criterion='gini', \n",
        "                             max_depth=18, \n",
        "                             random_state=0, \n",
        "                             verbose=1)\n",
        "rfc.fit(X_train, y_train)\n",
        "\n",
        "# Plotting confusion matrix for RandomForest classifier\n",
        "plot_confusion_matrix(rfc, X_test, y_test, cmap = \"Greens\")"
      ],
      "metadata": {
        "id": "ePVnClFJOpWB",
        "colab": {
          "base_uri": "https://localhost:8080/",
          "height": 421
        },
        "outputId": "491e34f9-f999-48a5-bba2-553a1e2bb11b"
      },
      "execution_count": null,
      "outputs": [
        {
          "output_type": "stream",
          "name": "stderr",
          "text": [
            "[Parallel(n_jobs=1)]: Using backend SequentialBackend with 1 concurrent workers.\n",
            "[Parallel(n_jobs=1)]: Done 1000 out of 1000 | elapsed:    3.8s finished\n",
            "/usr/local/lib/python3.8/dist-packages/sklearn/utils/deprecation.py:87: FutureWarning: Function plot_confusion_matrix is deprecated; Function `plot_confusion_matrix` is deprecated in 1.0 and will be removed in 1.2. Use one of the class methods: ConfusionMatrixDisplay.from_predictions or ConfusionMatrixDisplay.from_estimator.\n",
            "  warnings.warn(msg, category=FutureWarning)\n",
            "[Parallel(n_jobs=1)]: Using backend SequentialBackend with 1 concurrent workers.\n",
            "[Parallel(n_jobs=1)]: Done 1000 out of 1000 | elapsed:    0.6s finished\n"
          ]
        },
        {
          "output_type": "execute_result",
          "data": {
            "text/plain": [
              "<sklearn.metrics._plot.confusion_matrix.ConfusionMatrixDisplay at 0x7fc4766cc460>"
            ]
          },
          "metadata": {},
          "execution_count": 170
        },
        {
          "output_type": "display_data",
          "data": {
            "text/plain": [
              "<Figure size 432x288 with 2 Axes>"
            ],
            "image/png": "[encoded data removed]"
          },
          "metadata": {
            "needs_background": "light"
          }
        }
      ]
    },
    {
      "cell_type": "code",
      "source": [
        "accuracy_score(rfc.predict(X_test), y_test)"
      ],
      "metadata": {
        "id": "Bc4SLn-UQCdy",
        "colab": {
          "base_uri": "https://localhost:8080/"
        },
        "outputId": "f59223ca-f4c3-4b90-8714-aec6e075c278"
      },
      "execution_count": null,
      "outputs": [
        {
          "output_type": "stream",
          "name": "stderr",
          "text": [
            "[Parallel(n_jobs=1)]: Using backend SequentialBackend with 1 concurrent workers.\n",
            "[Parallel(n_jobs=1)]: Done 1000 out of 1000 | elapsed:    0.6s finished\n"
          ]
        },
        {
          "output_type": "execute_result",
          "data": {
            "text/plain": [
              "0.772305160456095"
            ]
          },
          "metadata": {},
          "execution_count": 171
        }
      ]
    },
    {
      "cell_type": "markdown",
      "source": [
        "#### XGBoost classifier on Binary categorical features:"
      ],
      "metadata": {
        "id": "pq-N-gieOgdG"
      }
    },
    {
      "cell_type": "code",
      "source": [
        "# XGB Classifier\n",
        "xgbm_bin = xgb.sklearn.XGBClassifier(learning_rate=0.1, \n",
        "                                  n_estimators=800, \n",
        "                                  nthread=10,\n",
        "                                  max_depth=18, \n",
        "                                  subsample=0.9, \n",
        "                                  colsample_bytree=0.9)\n",
        "\n",
        "xgbm_bin.fit(X_train, y_train)\n",
        "\n",
        "\n",
        "# Plotting confusion matrix for categorical features\n",
        "plot_confusion_matrix(xgbm_bin, X_test, y_test, cmap = \"Greens\")"
      ],
      "metadata": {
        "id": "Q7JSgrzdOb_T",
        "colab": {
          "base_uri": "https://localhost:8080/",
          "height": 351
        },
        "outputId": "b476a054-c6a2-425a-c67d-6b245e64fec7"
      },
      "execution_count": null,
      "outputs": [
        {
          "output_type": "stream",
          "name": "stderr",
          "text": [
            "/usr/local/lib/python3.8/dist-packages/sklearn/utils/deprecation.py:87: FutureWarning: Function plot_confusion_matrix is deprecated; Function `plot_confusion_matrix` is deprecated in 1.0 and will be removed in 1.2. Use one of the class methods: ConfusionMatrixDisplay.from_predictions or ConfusionMatrixDisplay.from_estimator.\n",
            "  warnings.warn(msg, category=FutureWarning)\n"
          ]
        },
        {
          "output_type": "execute_result",
          "data": {
            "text/plain": [
              "<sklearn.metrics._plot.confusion_matrix.ConfusionMatrixDisplay at 0x7fc4857e5a90>"
            ]
          },
          "metadata": {},
          "execution_count": 172
        },
        {
          "output_type": "display_data",
          "data": {
            "text/plain": [
              "<Figure size 432x288 with 2 Axes>"
            ],
            "image/png": "[encoded data removed]"
          },
          "metadata": {
            "needs_background": "light"
          }
        }
      ]
    },
    {
      "cell_type": "code",
      "source": [
        "accuracy_score(xgbm_bin.predict(X_test), y_test)"
      ],
      "metadata": {
        "id": "3E1p1UwxOm8R",
        "colab": {
          "base_uri": "https://localhost:8080/"
        },
        "outputId": "2bc9bd01-4b73-4c74-d7d7-6cdb40bb0e69"
      },
      "execution_count": null,
      "outputs": [
        {
          "output_type": "execute_result",
          "data": {
            "text/plain": [
              "0.772305160456095"
            ]
          },
          "metadata": {},
          "execution_count": 173
        }
      ]
    },
    {
      "cell_type": "markdown",
      "source": [
        "### Experimenting on telecommuting feature in binary categorical data:"
      ],
      "metadata": {
        "id": "arwH2g4bQI41"
      }
    },
    {
      "cell_type": "code",
      "source": [
        "# dropping telecommuting feature and checking the model performance.\n",
        "X_res = X_res.drop([\"telecommuting\"], axis = 1)\n",
        "\n",
        "# Splitting the data after removing telecommuting feature\n",
        "X_train, X_test, y_train, y_test = train_test_split(X_res, y_res, test_size=0.25, random_state=0)"
      ],
      "metadata": {
        "id": "9EuODtCCQErU"
      },
      "execution_count": null,
      "outputs": []
    },
    {
      "cell_type": "markdown",
      "source": [
        "#### Logistic Regression when telecommuting feature removed from binary categorical features:"
      ],
      "metadata": {
        "id": "2T5ozGq8QWr9"
      }
    },
    {
      "cell_type": "code",
      "source": [
        "# Modelling the logistic regression after removing telecommuting feature\n",
        "log_bin = LogisticRegression(random_state=50 ,solver = 'liblinear')\n",
        "log_bin.fit(X_train, y_train)\n",
        "\n",
        "# Plotting confusion matrix for the binary categorical data after removing telecommuting feature\n",
        "plot_confusion_matrix(log_bin, X_test, y_test, cmap = \"Greens\")"
      ],
      "metadata": {
        "id": "AQIk_dcLQTHu",
        "colab": {
          "base_uri": "https://localhost:8080/",
          "height": 353
        },
        "outputId": "75bb40b3-7e9d-4e7f-fa4e-09f51eca65ba"
      },
      "execution_count": null,
      "outputs": [
        {
          "output_type": "stream",
          "name": "stderr",
          "text": [
            "/usr/local/lib/python3.8/dist-packages/sklearn/utils/deprecation.py:87: FutureWarning: Function plot_confusion_matrix is deprecated; Function `plot_confusion_matrix` is deprecated in 1.0 and will be removed in 1.2. Use one of the class methods: ConfusionMatrixDisplay.from_predictions or ConfusionMatrixDisplay.from_estimator.\n",
            "  warnings.warn(msg, category=FutureWarning)\n"
          ]
        },
        {
          "output_type": "execute_result",
          "data": {
            "text/plain": [
              "<sklearn.metrics._plot.confusion_matrix.ConfusionMatrixDisplay at 0x7fc47cb45f10>"
            ]
          },
          "metadata": {},
          "execution_count": 175
        },
        {
          "output_type": "display_data",
          "data": {
            "text/plain": [
              "<Figure size 432x288 with 2 Axes>"
            ],
            "image/png": "[encoded data removed]"
          },
          "metadata": {
            "needs_background": "light"
          }
        }
      ]
    },
    {
      "cell_type": "code",
      "source": [
        "accuracy_score(log_bin.predict(X_test), y_test)"
      ],
      "metadata": {
        "id": "aASVE2BYQiMR",
        "colab": {
          "base_uri": "https://localhost:8080/"
        },
        "outputId": "d504932a-9d20-4437-f86f-65cb3957fc35"
      },
      "execution_count": null,
      "outputs": [
        {
          "output_type": "execute_result",
          "data": {
            "text/plain": [
              "0.7547901727988715"
            ]
          },
          "metadata": {},
          "execution_count": 176
        }
      ]
    },
    {
      "cell_type": "markdown",
      "source": [
        "#### RandomForest Classifier when telecommuting feature removed from binary categorical features:"
      ],
      "metadata": {
        "id": "9dKBKoB4Q4S0"
      }
    },
    {
      "cell_type": "code",
      "source": [
        "# Random Forest Classifier\n",
        "rfc_bin = RandomForestClassifier(n_estimators = 1000, \n",
        "                             criterion='gini', \n",
        "                             max_depth=18, \n",
        "                             random_state=0, \n",
        "                             verbose=1)\n",
        "rfc_bin.fit(X_train, y_train)\n",
        "\n",
        "# Plotting confusion matrix for RandomForest classifier\n",
        "plot_confusion_matrix(rfc_bin, X_test, y_test, cmap = \"Greens\")"
      ],
      "metadata": {
        "id": "xqXvHNRoQzC6",
        "colab": {
          "base_uri": "https://localhost:8080/",
          "height": 421
        },
        "outputId": "e96db700-5493-4f1b-dea9-d3d8b7ae39db"
      },
      "execution_count": null,
      "outputs": [
        {
          "output_type": "stream",
          "name": "stderr",
          "text": [
            "[Parallel(n_jobs=1)]: Using backend SequentialBackend with 1 concurrent workers.\n",
            "[Parallel(n_jobs=1)]: Done 1000 out of 1000 | elapsed:    3.4s finished\n",
            "/usr/local/lib/python3.8/dist-packages/sklearn/utils/deprecation.py:87: FutureWarning: Function plot_confusion_matrix is deprecated; Function `plot_confusion_matrix` is deprecated in 1.0 and will be removed in 1.2. Use one of the class methods: ConfusionMatrixDisplay.from_predictions or ConfusionMatrixDisplay.from_estimator.\n",
            "  warnings.warn(msg, category=FutureWarning)\n",
            "[Parallel(n_jobs=1)]: Using backend SequentialBackend with 1 concurrent workers.\n",
            "[Parallel(n_jobs=1)]: Done 1000 out of 1000 | elapsed:    0.5s finished\n"
          ]
        },
        {
          "output_type": "execute_result",
          "data": {
            "text/plain": [
              "<sklearn.metrics._plot.confusion_matrix.ConfusionMatrixDisplay at 0x7fc47db2feb0>"
            ]
          },
          "metadata": {},
          "execution_count": 177
        },
        {
          "output_type": "display_data",
          "data": {
            "text/plain": [
              "<Figure size 432x288 with 2 Axes>"
            ],
            "image/png": "[encoded data removed]"
          },
          "metadata": {
            "needs_background": "light"
          }
        }
      ]
    },
    {
      "cell_type": "code",
      "source": [
        "accuracy_score(rfc_bin.predict(X_test), y_test)"
      ],
      "metadata": {
        "id": "I4RqpPEKQ-oz",
        "colab": {
          "base_uri": "https://localhost:8080/"
        },
        "outputId": "b4070f05-1a57-44cb-bda6-1d58223987e2"
      },
      "execution_count": null,
      "outputs": [
        {
          "output_type": "stream",
          "name": "stderr",
          "text": [
            "[Parallel(n_jobs=1)]: Using backend SequentialBackend with 1 concurrent workers.\n",
            "[Parallel(n_jobs=1)]: Done 1000 out of 1000 | elapsed:    0.6s finished\n"
          ]
        },
        {
          "output_type": "execute_result",
          "data": {
            "text/plain": [
              "0.7678382508522393"
            ]
          },
          "metadata": {},
          "execution_count": 178
        }
      ]
    },
    {
      "cell_type": "markdown",
      "source": [
        "#### XGBoost Classifier when telecommuting feature removed from binary categorical features:"
      ],
      "metadata": {
        "id": "3YuaGBj4QmlG"
      }
    },
    {
      "cell_type": "code",
      "source": [
        "# XGB Classifier\n",
        "xgbm_bin = xgb.sklearn.XGBClassifier(learning_rate=0.1, \n",
        "                                  n_estimators=800, \n",
        "                                  nthread=10,\n",
        "                                  max_depth=18, \n",
        "                                  subsample=0.9, \n",
        "                                  colsample_bytree=0.9)\n",
        "\n",
        "xgbm_bin.fit(X_train, y_train)\n",
        "\n",
        "\n",
        "# Plotting confusion matrix for categorical features\n",
        "plot_confusion_matrix(xgbm_bin, X_test, y_test, cmap = \"Greens\")"
      ],
      "metadata": {
        "id": "9_YaX1InQkdm",
        "colab": {
          "base_uri": "https://localhost:8080/",
          "height": 351
        },
        "outputId": "8068b6f2-45d4-439b-8af0-ba6ff7117792"
      },
      "execution_count": null,
      "outputs": [
        {
          "output_type": "stream",
          "name": "stderr",
          "text": [
            "/usr/local/lib/python3.8/dist-packages/sklearn/utils/deprecation.py:87: FutureWarning: Function plot_confusion_matrix is deprecated; Function `plot_confusion_matrix` is deprecated in 1.0 and will be removed in 1.2. Use one of the class methods: ConfusionMatrixDisplay.from_predictions or ConfusionMatrixDisplay.from_estimator.\n",
            "  warnings.warn(msg, category=FutureWarning)\n"
          ]
        },
        {
          "output_type": "execute_result",
          "data": {
            "text/plain": [
              "<sklearn.metrics._plot.confusion_matrix.ConfusionMatrixDisplay at 0x7fc47cb05430>"
            ]
          },
          "metadata": {},
          "execution_count": 179
        },
        {
          "output_type": "display_data",
          "data": {
            "text/plain": [
              "<Figure size 432x288 with 2 Axes>"
            ],
            "image/png": "[encoded data removed]"
          },
          "metadata": {
            "needs_background": "light"
          }
        }
      ]
    },
    {
      "cell_type": "code",
      "source": [
        "accuracy_score(xgbm_bin.predict(X_test), y_test)"
      ],
      "metadata": {
        "id": "HwbbRk_yQxLS",
        "colab": {
          "base_uri": "https://localhost:8080/"
        },
        "outputId": "89c9eca0-6e23-4f0c-f38b-cfc5fda6b60d"
      },
      "execution_count": null,
      "outputs": [
        {
          "output_type": "execute_result",
          "data": {
            "text/plain": [
              "0.7678382508522393"
            ]
          },
          "metadata": {},
          "execution_count": 180
        }
      ]
    },
    {
      "cell_type": "markdown",
      "source": [
        "Experimenting on binary categorical data was done. The accuracies doesn't look good. Carrying forward on considering all the categorical features."
      ],
      "metadata": {
        "id": "uT3y0YEsRO8k"
      }
    },
    {
      "cell_type": "markdown",
      "source": [
        "#### Converting textual data of categorical data into numerical categorical data:"
      ],
      "metadata": {
        "id": "_nknrenDeZKx"
      }
    },
    {
      "cell_type": "code",
      "source": [
        "# Converting textual categorical features into numerical categorical features using Label Encoder\n",
        "le = LabelEncoder()\n",
        "data_cat[[\"employment_type\", \"required_experience\", \"required_education\", \"function\", \"industry\", \"salary_range\", \n",
        "          \"department\", \"location\"]] = data_cat[[\"employment_type\", \"required_experience\", \"required_education\", \"function\", \n",
        "                                                 \"industry\", \"salary_range\", \"department\", \"location\"]].apply(le.fit_transform)\n"
      ],
      "metadata": {
        "id": "BbOq7OPTRE_b"
      },
      "execution_count": null,
      "outputs": []
    },
    {
      "cell_type": "code",
      "source": [
        "data_cat.head()"
      ],
      "metadata": {
        "id": "nM1OrNgnRnwj",
        "colab": {
          "base_uri": "https://localhost:8080/",
          "height": 270
        },
        "outputId": "f1204fa4-1102-4984-cd8c-cabb029b8182"
      },
      "execution_count": null,
      "outputs": [
        {
          "output_type": "execute_result",
          "data": {
            "text/plain": [
              "   location  department  salary_range  telecommuting  has_company_logo  \\\n",
              "0      2536         758           872              0                 1   \n",
              "1      1073        1162           872              0                 1   \n",
              "2      1868         831           872              0                 1   \n",
              "3      1704        1055           872              0                 1   \n",
              "4      1742         831           872              0                 1   \n",
              "\n",
              "   has_questions  employment_type  required_experience  required_education  \\\n",
              "0              0                3                    4                   6   \n",
              "1              0                1                    6                   6   \n",
              "2              0                2                    7                   6   \n",
              "3              0                1                    5                   1   \n",
              "4              1                1                    5                   1   \n",
              "\n",
              "   industry  function  fraudulent bin_company_profile  \n",
              "0        88        22           0                   1  \n",
              "1        75         7           0                   1  \n",
              "2        88        23           0                   1  \n",
              "3        22        32           0                   1  \n",
              "4        51        16           0                   1  "
            ],
            "text/html": [
              "\n",
              "  <div id=\"df-e0f1b841-5889-47fb-b8d1-d84a73836abe\">\n",
              "    <div class=\"colab-df-container\">\n",
              "      <div>\n",
              "<style scoped>\n",
              "    .dataframe tbody tr th:only-of-type {\n",
              "        vertical-align: middle;\n",
              "    }\n",
              "\n",
              "    .dataframe tbody tr th {\n",
              "        vertical-align: top;\n",
              "    }\n",
              "\n",
              "    .dataframe thead th {\n",
              "        text-align: right;\n",
              "    }\n",
              "</style>\n",
              "<table border=\"1\" class=\"dataframe\">\n",
              "  <thead>\n",
              "    <tr style=\"text-align: right;\">\n",
              "      <th></th>\n",
              "      <th>location</th>\n",
              "      <th>department</th>\n",
              "      <th>salary_range</th>\n",
              "      <th>telecommuting</th>\n",
              "      <th>has_company_logo</th>\n",
              "      <th>has_questions</th>\n",
              "      <th>employment_type</th>\n",
              "      <th>required_experience</th>\n",
              "      <th>required_education</th>\n",
              "      <th>industry</th>\n",
              "      <th>function</th>\n",
              "      <th>fraudulent</th>\n",
              "      <th>bin_company_profile</th>\n",
              "    </tr>\n",
              "  </thead>\n",
              "  <tbody>\n",
              "    <tr>\n",
              "      <th>0</th>\n",
              "      <td>2536</td>\n",
              "      <td>758</td>\n",
              "      <td>872</td>\n",
              "      <td>0</td>\n",
              "      <td>1</td>\n",
              "      <td>0</td>\n",
              "      <td>3</td>\n",
              "      <td>4</td>\n",
              "      <td>6</td>\n",
              "      <td>88</td>\n",
              "      <td>22</td>\n",
              "      <td>0</td>\n",
              "      <td>1</td>\n",
              "    </tr>\n",
              "    <tr>\n",
              "      <th>1</th>\n",
              "      <td>1073</td>\n",
              "      <td>1162</td>\n",
              "      <td>872</td>\n",
              "      <td>0</td>\n",
              "      <td>1</td>\n",
              "      <td>0</td>\n",
              "      <td>1</td>\n",
              "      <td>6</td>\n",
              "      <td>6</td>\n",
              "      <td>75</td>\n",
              "      <td>7</td>\n",
              "      <td>0</td>\n",
              "      <td>1</td>\n",
              "    </tr>\n",
              "    <tr>\n",
              "      <th>2</th>\n",
              "      <td>1868</td>\n",
              "      <td>831</td>\n",
              "      <td>872</td>\n",
              "      <td>0</td>\n",
              "      <td>1</td>\n",
              "      <td>0</td>\n",
              "      <td>2</td>\n",
              "      <td>7</td>\n",
              "      <td>6</td>\n",
              "      <td>88</td>\n",
              "      <td>23</td>\n",
              "      <td>0</td>\n",
              "      <td>1</td>\n",
              "    </tr>\n",
              "    <tr>\n",
              "      <th>3</th>\n",
              "      <td>1704</td>\n",
              "      <td>1055</td>\n",
              "      <td>872</td>\n",
              "      <td>0</td>\n",
              "      <td>1</td>\n",
              "      <td>0</td>\n",
              "      <td>1</td>\n",
              "      <td>5</td>\n",
              "      <td>1</td>\n",
              "      <td>22</td>\n",
              "      <td>32</td>\n",
              "      <td>0</td>\n",
              "      <td>1</td>\n",
              "    </tr>\n",
              "    <tr>\n",
              "      <th>4</th>\n",
              "      <td>1742</td>\n",
              "      <td>831</td>\n",
              "      <td>872</td>\n",
              "      <td>0</td>\n",
              "      <td>1</td>\n",
              "      <td>1</td>\n",
              "      <td>1</td>\n",
              "      <td>5</td>\n",
              "      <td>1</td>\n",
              "      <td>51</td>\n",
              "      <td>16</td>\n",
              "      <td>0</td>\n",
              "      <td>1</td>\n",
              "    </tr>\n",
              "  </tbody>\n",
              "</table>\n",
              "</div>\n",
              "      <button class=\"colab-df-convert\" onclick=\"convertToInteractive('df-e0f1b841-5889-47fb-b8d1-d84a73836abe')\"\n",
              "              title=\"Convert this dataframe to an interactive table.\"\n",
              "              style=\"display:none;\">\n",
              "        \n",
              "  <svg xmlns=\"http://www.w3.org/2000/svg\" height=\"24px\"viewBox=\"0 0 24 24\"\n",
              "       width=\"24px\">\n",
              "    <path d=\"M0 0h24v24H0V0z\" fill=\"none\"/>\n",
              "    <path d=\"M18.56 5.44l.94 2.06.94-2.06 2.06-.94-2.06-.94-.94-2.06-.94 2.06-2.06.94zm-11 1L8.5 8.5l.94-2.06 2.06-.94-2.06-.94L8.5 2.5l-.94 2.06-2.06.94zm10 10l.94 2.06.94-2.06 2.06-.94-2.06-.94-.94-2.06-.94 2.06-2.06.94z\"/><path d=\"M17.41 7.96l-1.37-1.37c-.4-.4-.92-.59-1.43-.59-.52 0-1.04.2-1.43.59L10.3 9.45l-7.72 7.72c-.78.78-.78 2.05 0 2.83L4 21.41c.39.39.9.59 1.41.59.51 0 1.02-.2 1.41-.59l7.78-7.78 2.81-2.81c.8-.78.8-2.07 0-2.86zM5.41 20L4 18.59l7.72-7.72 1.47 1.35L5.41 20z\"/>\n",
              "  </svg>\n",
              "      </button>\n",
              "      \n",
              "  <style>\n",
              "    .colab-df-container {\n",
              "      display:flex;\n",
              "      flex-wrap:wrap;\n",
              "      gap: 12px;\n",
              "    }\n",
              "\n",
              "    .colab-df-convert {\n",
              "      background-color: #E8F0FE;\n",
              "      border: none;\n",
              "      border-radius: 50%;\n",
              "      cursor: pointer;\n",
              "      display: none;\n",
              "      fill: #1967D2;\n",
              "      height: 32px;\n",
              "      padding: 0 0 0 0;\n",
              "      width: 32px;\n",
              "    }\n",
              "\n",
              "    .colab-df-convert:hover {\n",
              "      background-color: #E2EBFA;\n",
              "      box-shadow: 0px 1px 2px rgba(60, 64, 67, 0.3), 0px 1px 3px 1px rgba(60, 64, 67, 0.15);\n",
              "      fill: #174EA6;\n",
              "    }\n",
              "\n",
              "    [theme=dark] .colab-df-convert {\n",
              "      background-color: #3B4455;\n",
              "      fill: #D2E3FC;\n",
              "    }\n",
              "\n",
              "    [theme=dark] .colab-df-convert:hover {\n",
              "      background-color: #434B5C;\n",
              "      box-shadow: 0px 1px 3px 1px rgba(0, 0, 0, 0.15);\n",
              "      filter: drop-shadow(0px 1px 2px rgba(0, 0, 0, 0.3));\n",
              "      fill: #FFFFFF;\n",
              "    }\n",
              "  </style>\n",
              "\n",
              "      <script>\n",
              "        const buttonEl =\n",
              "          document.querySelector('#df-e0f1b841-5889-47fb-b8d1-d84a73836abe button.colab-df-convert');\n",
              "        buttonEl.style.display =\n",
              "          google.colab.kernel.accessAllowed ? 'block' : 'none';\n",
              "\n",
              "        async function convertToInteractive(key) {\n",
              "          const element = document.querySelector('#df-e0f1b841-5889-47fb-b8d1-d84a73836abe');\n",
              "          const dataTable =\n",
              "            await google.colab.kernel.invokeFunction('convertToInteractive',\n",
              "                                                     [key], {});\n",
              "          if (!dataTable) return;\n",
              "\n",
              "          const docLinkHtml = 'Like what you see? Visit the ' +\n",
              "            '<a target=\"_blank\" href=https://colab.research.google.com/notebooks/data_table.ipynb>data table notebook</a>'\n",
              "            + ' to learn more about interactive tables.';\n",
              "          element.innerHTML = '';\n",
              "          dataTable['output_type'] = 'display_data';\n",
              "          await google.colab.output.renderOutput(dataTable, element);\n",
              "          const docLink = document.createElement('div');\n",
              "          docLink.innerHTML = docLinkHtml;\n",
              "          element.appendChild(docLink);\n",
              "        }\n",
              "      </script>\n",
              "    </div>\n",
              "  </div>\n",
              "  "
            ]
          },
          "metadata": {},
          "execution_count": 182
        }
      ]
    },
    {
      "cell_type": "markdown",
      "source": [
        "### Dropping telecommuting, salary_range and department from the dataset and checking performances:"
      ],
      "metadata": {
        "id": "MdM786oeRq9E"
      }
    },
    {
      "cell_type": "code",
      "source": [
        "data_catr = data_cat.drop([\"department\", \"salary_range\", \"telecommuting\"], axis = 1)"
      ],
      "metadata": {
        "id": "00r3j9DpRokN"
      },
      "execution_count": null,
      "outputs": []
    },
    {
      "cell_type": "code",
      "source": [
        "data_catr.head()"
      ],
      "metadata": {
        "id": "mhcpqW5kR0B_",
        "colab": {
          "base_uri": "https://localhost:8080/",
          "height": 270
        },
        "outputId": "930d0196-be75-42a3-adde-b8a64cb146fc"
      },
      "execution_count": null,
      "outputs": [
        {
          "output_type": "execute_result",
          "data": {
            "text/plain": [
              "   location  has_company_logo  has_questions  employment_type  \\\n",
              "0      2536                 1              0                3   \n",
              "1      1073                 1              0                1   \n",
              "2      1868                 1              0                2   \n",
              "3      1704                 1              0                1   \n",
              "4      1742                 1              1                1   \n",
              "\n",
              "   required_experience  required_education  industry  function  fraudulent  \\\n",
              "0                    4                   6        88        22           0   \n",
              "1                    6                   6        75         7           0   \n",
              "2                    7                   6        88        23           0   \n",
              "3                    5                   1        22        32           0   \n",
              "4                    5                   1        51        16           0   \n",
              "\n",
              "  bin_company_profile  \n",
              "0                   1  \n",
              "1                   1  \n",
              "2                   1  \n",
              "3                   1  \n",
              "4                   1  "
            ],
            "text/html": [
              "\n",
              "  <div id=\"df-cba9f2c3-b250-484d-8a41-def3c04f152d\">\n",
              "    <div class=\"colab-df-container\">\n",
              "      <div>\n",
              "<style scoped>\n",
              "    .dataframe tbody tr th:only-of-type {\n",
              "        vertical-align: middle;\n",
              "    }\n",
              "\n",
              "    .dataframe tbody tr th {\n",
              "        vertical-align: top;\n",
              "    }\n",
              "\n",
              "    .dataframe thead th {\n",
              "        text-align: right;\n",
              "    }\n",
              "</style>\n",
              "<table border=\"1\" class=\"dataframe\">\n",
              "  <thead>\n",
              "    <tr style=\"text-align: right;\">\n",
              "      <th></th>\n",
              "      <th>location</th>\n",
              "      <th>has_company_logo</th>\n",
              "      <th>has_questions</th>\n",
              "      <th>employment_type</th>\n",
              "      <th>required_experience</th>\n",
              "      <th>required_education</th>\n",
              "      <th>industry</th>\n",
              "      <th>function</th>\n",
              "      <th>fraudulent</th>\n",
              "      <th>bin_company_profile</th>\n",
              "    </tr>\n",
              "  </thead>\n",
              "  <tbody>\n",
              "    <tr>\n",
              "      <th>0</th>\n",
              "      <td>2536</td>\n",
              "      <td>1</td>\n",
              "      <td>0</td>\n",
              "      <td>3</td>\n",
              "      <td>4</td>\n",
              "      <td>6</td>\n",
              "      <td>88</td>\n",
              "      <td>22</td>\n",
              "      <td>0</td>\n",
              "      <td>1</td>\n",
              "    </tr>\n",
              "    <tr>\n",
              "      <th>1</th>\n",
              "      <td>1073</td>\n",
              "      <td>1</td>\n",
              "      <td>0</td>\n",
              "      <td>1</td>\n",
              "      <td>6</td>\n",
              "      <td>6</td>\n",
              "      <td>75</td>\n",
              "      <td>7</td>\n",
              "      <td>0</td>\n",
              "      <td>1</td>\n",
              "    </tr>\n",
              "    <tr>\n",
              "      <th>2</th>\n",
              "      <td>1868</td>\n",
              "      <td>1</td>\n",
              "      <td>0</td>\n",
              "      <td>2</td>\n",
              "      <td>7</td>\n",
              "      <td>6</td>\n",
              "      <td>88</td>\n",
              "      <td>23</td>\n",
              "      <td>0</td>\n",
              "      <td>1</td>\n",
              "    </tr>\n",
              "    <tr>\n",
              "      <th>3</th>\n",
              "      <td>1704</td>\n",
              "      <td>1</td>\n",
              "      <td>0</td>\n",
              "      <td>1</td>\n",
              "      <td>5</td>\n",
              "      <td>1</td>\n",
              "      <td>22</td>\n",
              "      <td>32</td>\n",
              "      <td>0</td>\n",
              "      <td>1</td>\n",
              "    </tr>\n",
              "    <tr>\n",
              "      <th>4</th>\n",
              "      <td>1742</td>\n",
              "      <td>1</td>\n",
              "      <td>1</td>\n",
              "      <td>1</td>\n",
              "      <td>5</td>\n",
              "      <td>1</td>\n",
              "      <td>51</td>\n",
              "      <td>16</td>\n",
              "      <td>0</td>\n",
              "      <td>1</td>\n",
              "    </tr>\n",
              "  </tbody>\n",
              "</table>\n",
              "</div>\n",
              "      <button class=\"colab-df-convert\" onclick=\"convertToInteractive('df-cba9f2c3-b250-484d-8a41-def3c04f152d')\"\n",
              "              title=\"Convert this dataframe to an interactive table.\"\n",
              "              style=\"display:none;\">\n",
              "        \n",
              "  <svg xmlns=\"http://www.w3.org/2000/svg\" height=\"24px\"viewBox=\"0 0 24 24\"\n",
              "       width=\"24px\">\n",
              "    <path d=\"M0 0h24v24H0V0z\" fill=\"none\"/>\n",
              "    <path d=\"M18.56 5.44l.94 2.06.94-2.06 2.06-.94-2.06-.94-.94-2.06-.94 2.06-2.06.94zm-11 1L8.5 8.5l.94-2.06 2.06-.94-2.06-.94L8.5 2.5l-.94 2.06-2.06.94zm10 10l.94 2.06.94-2.06 2.06-.94-2.06-.94-.94-2.06-.94 2.06-2.06.94z\"/><path d=\"M17.41 7.96l-1.37-1.37c-.4-.4-.92-.59-1.43-.59-.52 0-1.04.2-1.43.59L10.3 9.45l-7.72 7.72c-.78.78-.78 2.05 0 2.83L4 21.41c.39.39.9.59 1.41.59.51 0 1.02-.2 1.41-.59l7.78-7.78 2.81-2.81c.8-.78.8-2.07 0-2.86zM5.41 20L4 18.59l7.72-7.72 1.47 1.35L5.41 20z\"/>\n",
              "  </svg>\n",
              "      </button>\n",
              "      \n",
              "  <style>\n",
              "    .colab-df-container {\n",
              "      display:flex;\n",
              "      flex-wrap:wrap;\n",
              "      gap: 12px;\n",
              "    }\n",
              "\n",
              "    .colab-df-convert {\n",
              "      background-color: #E8F0FE;\n",
              "      border: none;\n",
              "      border-radius: 50%;\n",
              "      cursor: pointer;\n",
              "      display: none;\n",
              "      fill: #1967D2;\n",
              "      height: 32px;\n",
              "      padding: 0 0 0 0;\n",
              "      width: 32px;\n",
              "    }\n",
              "\n",
              "    .colab-df-convert:hover {\n",
              "      background-color: #E2EBFA;\n",
              "      box-shadow: 0px 1px 2px rgba(60, 64, 67, 0.3), 0px 1px 3px 1px rgba(60, 64, 67, 0.15);\n",
              "      fill: #174EA6;\n",
              "    }\n",
              "\n",
              "    [theme=dark] .colab-df-convert {\n",
              "      background-color: #3B4455;\n",
              "      fill: #D2E3FC;\n",
              "    }\n",
              "\n",
              "    [theme=dark] .colab-df-convert:hover {\n",
              "      background-color: #434B5C;\n",
              "      box-shadow: 0px 1px 3px 1px rgba(0, 0, 0, 0.15);\n",
              "      filter: drop-shadow(0px 1px 2px rgba(0, 0, 0, 0.3));\n",
              "      fill: #FFFFFF;\n",
              "    }\n",
              "  </style>\n",
              "\n",
              "      <script>\n",
              "        const buttonEl =\n",
              "          document.querySelector('#df-cba9f2c3-b250-484d-8a41-def3c04f152d button.colab-df-convert');\n",
              "        buttonEl.style.display =\n",
              "          google.colab.kernel.accessAllowed ? 'block' : 'none';\n",
              "\n",
              "        async function convertToInteractive(key) {\n",
              "          const element = document.querySelector('#df-cba9f2c3-b250-484d-8a41-def3c04f152d');\n",
              "          const dataTable =\n",
              "            await google.colab.kernel.invokeFunction('convertToInteractive',\n",
              "                                                     [key], {});\n",
              "          if (!dataTable) return;\n",
              "\n",
              "          const docLinkHtml = 'Like what you see? Visit the ' +\n",
              "            '<a target=\"_blank\" href=https://colab.research.google.com/notebooks/data_table.ipynb>data table notebook</a>'\n",
              "            + ' to learn more about interactive tables.';\n",
              "          element.innerHTML = '';\n",
              "          dataTable['output_type'] = 'display_data';\n",
              "          await google.colab.output.renderOutput(dataTable, element);\n",
              "          const docLink = document.createElement('div');\n",
              "          docLink.innerHTML = docLinkHtml;\n",
              "          element.appendChild(docLink);\n",
              "        }\n",
              "      </script>\n",
              "    </div>\n",
              "  </div>\n",
              "  "
            ]
          },
          "metadata": {},
          "execution_count": 184
        }
      ]
    },
    {
      "cell_type": "code",
      "source": [
        "# Splitting all categorical features into inputs and output \n",
        "X = data_catr.drop([\"fraudulent\"], axis = 1)\n",
        "y = data_catr[\"fraudulent\"]\n",
        "\n",
        "# Applying SMOTE for the categorical features\n",
        "sm = SMOTE(random_state=0)\n",
        "X_catr, y_catr = sm.fit_resample(X, y)"
      ],
      "metadata": {
        "id": "v42maRMYR2Ai"
      },
      "execution_count": null,
      "outputs": []
    },
    {
      "cell_type": "code",
      "source": [
        "X_catr[\"bin_company_profile\"] = X_catr[\"bin_company_profile\"].astype(int)"
      ],
      "metadata": {
        "id": "gAJlXgm4R8rS"
      },
      "execution_count": null,
      "outputs": []
    },
    {
      "cell_type": "code",
      "source": [
        "# Splitting the dataset into training and testing sets\n",
        "X_train, X_test, y_train, y_test = train_test_split(X_catr, y_catr, test_size=0.25, random_state=0)"
      ],
      "metadata": {
        "id": "TNaiV8G0SNCM"
      },
      "execution_count": null,
      "outputs": []
    },
    {
      "cell_type": "markdown",
      "source": [
        "#### Logistic Regression for categorical features without some features"
      ],
      "metadata": {
        "id": "NlnRpHWJSSDd"
      }
    },
    {
      "cell_type": "code",
      "source": [
        "# Logistic Regression for the categorical features\n",
        "log = LogisticRegression(C = 0.01, penalty = 'l2', random_state=50 ,solver = 'liblinear')\n",
        "log.fit(X_train, y_train)\n",
        "\n",
        "# Plotting confusion matrix for categorical features\n",
        "plot_confusion_matrix(log, X_test, y_test, cmap = \"Greens\")"
      ],
      "metadata": {
        "id": "Ny9hDEXjSPxD",
        "colab": {
          "base_uri": "https://localhost:8080/",
          "height": 355
        },
        "outputId": "9f35d848-9ef2-453f-f5af-5737d0caadd4"
      },
      "execution_count": null,
      "outputs": [
        {
          "output_type": "stream",
          "name": "stderr",
          "text": [
            "/usr/local/lib/python3.8/dist-packages/sklearn/utils/deprecation.py:87: FutureWarning: Function plot_confusion_matrix is deprecated; Function `plot_confusion_matrix` is deprecated in 1.0 and will be removed in 1.2. Use one of the class methods: ConfusionMatrixDisplay.from_predictions or ConfusionMatrixDisplay.from_estimator.\n",
            "  warnings.warn(msg, category=FutureWarning)\n"
          ]
        },
        {
          "output_type": "execute_result",
          "data": {
            "text/plain": [
              "<sklearn.metrics._plot.confusion_matrix.ConfusionMatrixDisplay at 0x7fc47d2cb490>"
            ]
          },
          "metadata": {},
          "execution_count": 188
        },
        {
          "output_type": "display_data",
          "data": {
            "text/plain": [
              "<Figure size 432x288 with 2 Axes>"
            ],
            "image/png": "[encoded data removed]"
          },
          "metadata": {
            "needs_background": "light"
          }
        }
      ]
    },
    {
      "cell_type": "code",
      "source": [
        "accuracy_score(log.predict(X_test), y_test)"
      ],
      "metadata": {
        "id": "CNpKsWjeSZiI",
        "colab": {
          "base_uri": "https://localhost:8080/"
        },
        "outputId": "2c0dfd1f-64d5-4927-bc7f-582cd806524b"
      },
      "execution_count": null,
      "outputs": [
        {
          "output_type": "execute_result",
          "data": {
            "text/plain": [
              "0.8172093570001175"
            ]
          },
          "metadata": {},
          "execution_count": 189
        }
      ]
    },
    {
      "cell_type": "markdown",
      "source": [
        "#### Random Forest Classifier for categorical features without some features:"
      ],
      "metadata": {
        "id": "uaUUg173SoEa"
      }
    },
    {
      "cell_type": "code",
      "source": [
        "# Random Forest Classifier\n",
        "rfc = RandomForestClassifier(n_estimators = 1000, \n",
        "                             criterion='gini', \n",
        "                             max_depth=18, \n",
        "                             random_state=0, \n",
        "                             verbose=1)\n",
        "rfc.fit(X_train, y_train)\n",
        "\n",
        "# Plotting confusion matrix for RandomForest classifier\n",
        "plot_confusion_matrix(rfc, X_test, y_test, cmap = \"Greens\")"
      ],
      "metadata": {
        "id": "WIf12vdZSmoB",
        "colab": {
          "base_uri": "https://localhost:8080/",
          "height": 421
        },
        "outputId": "36d028fb-5895-441f-c570-94a40584052d"
      },
      "execution_count": null,
      "outputs": [
        {
          "output_type": "stream",
          "name": "stderr",
          "text": [
            "[Parallel(n_jobs=1)]: Using backend SequentialBackend with 1 concurrent workers.\n",
            "[Parallel(n_jobs=1)]: Done 1000 out of 1000 | elapsed:   16.2s finished\n",
            "/usr/local/lib/python3.8/dist-packages/sklearn/utils/deprecation.py:87: FutureWarning: Function plot_confusion_matrix is deprecated; Function `plot_confusion_matrix` is deprecated in 1.0 and will be removed in 1.2. Use one of the class methods: ConfusionMatrixDisplay.from_predictions or ConfusionMatrixDisplay.from_estimator.\n",
            "  warnings.warn(msg, category=FutureWarning)\n",
            "[Parallel(n_jobs=1)]: Using backend SequentialBackend with 1 concurrent workers.\n",
            "[Parallel(n_jobs=1)]: Done 1000 out of 1000 | elapsed:    1.1s finished\n"
          ]
        },
        {
          "output_type": "execute_result",
          "data": {
            "text/plain": [
              "<sklearn.metrics._plot.confusion_matrix.ConfusionMatrixDisplay at 0x7fc477234fa0>"
            ]
          },
          "metadata": {},
          "execution_count": 190
        },
        {
          "output_type": "display_data",
          "data": {
            "text/plain": [
              "<Figure size 432x288 with 2 Axes>"
            ],
            "image/png": "[encoded data removed]"
          },
          "metadata": {
            "needs_background": "light"
          }
        }
      ]
    },
    {
      "cell_type": "code",
      "source": [
        "accuracy_score(rfc.predict(X_test), y_test)"
      ],
      "metadata": {
        "id": "veWLRh46SuGp",
        "colab": {
          "base_uri": "https://localhost:8080/"
        },
        "outputId": "cef4dc7e-38a6-47ad-e550-b6bcf2ada0b1"
      },
      "execution_count": null,
      "outputs": [
        {
          "output_type": "stream",
          "name": "stderr",
          "text": [
            "[Parallel(n_jobs=1)]: Using backend SequentialBackend with 1 concurrent workers.\n",
            "[Parallel(n_jobs=1)]: Done 1000 out of 1000 | elapsed:    1.1s finished\n"
          ]
        },
        {
          "output_type": "execute_result",
          "data": {
            "text/plain": [
              "0.9770777007170566"
            ]
          },
          "metadata": {},
          "execution_count": 191
        }
      ]
    },
    {
      "cell_type": "markdown",
      "source": [
        "#### XGBoost Classifier for categorical features without some features:"
      ],
      "metadata": {
        "id": "uEnzxnZVSiXr"
      }
    },
    {
      "cell_type": "code",
      "source": [
        "# XGB Classifier\n",
        "xgbm = xgb.sklearn.XGBClassifier(learning_rate=0.1, \n",
        "                                  n_estimators=800, \n",
        "                                  nthread=10,\n",
        "                                  max_depth=18, \n",
        "                                  subsample=0.9, \n",
        "                                  colsample_bytree=0.9)\n",
        "\n",
        "xgbm.fit(X_train, y_train)\n",
        "\n",
        "\n",
        "# Plotting confusion matrix for categorical features\n",
        "plot_confusion_matrix(xgbm, X_test, y_test, cmap = \"Greens\")"
      ],
      "metadata": {
        "id": "r9T-Yk0PSejv",
        "colab": {
          "base_uri": "https://localhost:8080/",
          "height": 351
        },
        "outputId": "fae51126-b7db-4f8e-9a6c-256eecc690d4"
      },
      "execution_count": null,
      "outputs": [
        {
          "output_type": "stream",
          "name": "stderr",
          "text": [
            "/usr/local/lib/python3.8/dist-packages/sklearn/utils/deprecation.py:87: FutureWarning: Function plot_confusion_matrix is deprecated; Function `plot_confusion_matrix` is deprecated in 1.0 and will be removed in 1.2. Use one of the class methods: ConfusionMatrixDisplay.from_predictions or ConfusionMatrixDisplay.from_estimator.\n",
            "  warnings.warn(msg, category=FutureWarning)\n"
          ]
        },
        {
          "output_type": "execute_result",
          "data": {
            "text/plain": [
              "<sklearn.metrics._plot.confusion_matrix.ConfusionMatrixDisplay at 0x7fc4770bfd30>"
            ]
          },
          "metadata": {},
          "execution_count": 192
        },
        {
          "output_type": "display_data",
          "data": {
            "text/plain": [
              "<Figure size 432x288 with 2 Axes>"
            ],
            "image/png": "[encoded data removed]"
          },
          "metadata": {
            "needs_background": "light"
          }
        }
      ]
    },
    {
      "cell_type": "code",
      "source": [
        "accuracy_score(xgbm.predict(X_test), y_test)"
      ],
      "metadata": {
        "id": "eLcNqE42Sb4Y",
        "colab": {
          "base_uri": "https://localhost:8080/"
        },
        "outputId": "4618f0a8-d96b-4322-c1ce-3e50aa590667"
      },
      "execution_count": null,
      "outputs": [
        {
          "output_type": "execute_result",
          "data": {
            "text/plain": [
              "0.9829552133537087"
            ]
          },
          "metadata": {},
          "execution_count": 193
        }
      ]
    },
    {
      "cell_type": "markdown",
      "source": [
        "### Considering all the categorical features:"
      ],
      "metadata": {
        "id": "mLxBhuqbS0gM"
      }
    },
    {
      "cell_type": "code",
      "source": [
        "# Splitting all categorical features into inputs and output \n",
        "X = data_cat.drop([\"fraudulent\"], axis = 1)\n",
        "y = data_cat[\"fraudulent\"]\n",
        "\n",
        "# Applying SMOTE for the categorical features\n",
        "sm = SMOTE(random_state=0)\n",
        "X_cat, y_cat = sm.fit_resample(X, y)"
      ],
      "metadata": {
        "id": "40WRQmKGSv_z"
      },
      "execution_count": null,
      "outputs": []
    },
    {
      "cell_type": "code",
      "source": [
        "X_cat[\"bin_company_profile\"] = X_cat[\"bin_company_profile\"].astype(int)"
      ],
      "metadata": {
        "id": "kcPQWx7tS7Su"
      },
      "execution_count": null,
      "outputs": []
    },
    {
      "cell_type": "code",
      "source": [
        "# Splitting the dataset into training and testing sets\n",
        "X_train, X_test, y_train, y_test = train_test_split(X_cat, y_cat, test_size=0.25, random_state=0)"
      ],
      "metadata": {
        "id": "4nw7swIiS_2B"
      },
      "execution_count": null,
      "outputs": []
    },
    {
      "cell_type": "markdown",
      "source": [
        "#### Logistic Regression for all the categorical variables:"
      ],
      "metadata": {
        "id": "gxXNGreyTEsI"
      }
    },
    {
      "cell_type": "code",
      "source": [
        "# Logistic Regression for the categorical features\n",
        "log = LogisticRegression(C = 0.01, penalty = 'l2', random_state=50 ,solver = 'liblinear')\n",
        "log.fit(X_train, y_train)\n",
        "\n",
        "# Plotting confusion matrix for categorical features\n",
        "plot_confusion_matrix(log, X_test, y_test, cmap = \"Greens\")"
      ],
      "metadata": {
        "id": "aaLZ2WgNTCiv",
        "colab": {
          "base_uri": "https://localhost:8080/",
          "height": 355
        },
        "outputId": "f58677ee-5bdd-472b-997e-03c6dddc878a"
      },
      "execution_count": null,
      "outputs": [
        {
          "output_type": "stream",
          "name": "stderr",
          "text": [
            "/usr/local/lib/python3.8/dist-packages/sklearn/utils/deprecation.py:87: FutureWarning: Function plot_confusion_matrix is deprecated; Function `plot_confusion_matrix` is deprecated in 1.0 and will be removed in 1.2. Use one of the class methods: ConfusionMatrixDisplay.from_predictions or ConfusionMatrixDisplay.from_estimator.\n",
            "  warnings.warn(msg, category=FutureWarning)\n"
          ]
        },
        {
          "output_type": "execute_result",
          "data": {
            "text/plain": [
              "<sklearn.metrics._plot.confusion_matrix.ConfusionMatrixDisplay at 0x7fc48573ae80>"
            ]
          },
          "metadata": {},
          "execution_count": 197
        },
        {
          "output_type": "display_data",
          "data": {
            "text/plain": [
              "<Figure size 432x288 with 2 Axes>"
            ],
            "image/png": "[encoded data removed]"
          },
          "metadata": {
            "needs_background": "light"
          }
        }
      ]
    },
    {
      "cell_type": "code",
      "source": [
        "accuracy_score(log.predict(X_test), y_test)"
      ],
      "metadata": {
        "id": "geqyX_AWTI9f",
        "colab": {
          "base_uri": "https://localhost:8080/"
        },
        "outputId": "2653e061-0498-4a76-c109-3ada3425bc9d"
      },
      "execution_count": null,
      "outputs": [
        {
          "output_type": "execute_result",
          "data": {
            "text/plain": [
              "0.8142706006817915"
            ]
          },
          "metadata": {},
          "execution_count": 198
        }
      ]
    },
    {
      "cell_type": "markdown",
      "source": [
        "#### RandomForest Classifier for all the categorical variables:"
      ],
      "metadata": {
        "id": "84tCSvr-TdqB"
      }
    },
    {
      "cell_type": "code",
      "source": [
        "# Random Forest Classifier\n",
        "rfc = RandomForestClassifier(n_estimators = 1000, \n",
        "                             criterion='entropy', \n",
        "                             max_depth=18, \n",
        "                             random_state=0, \n",
        "                             verbose=1,\n",
        "                             warm_start = True)\n",
        "rfc.fit(X_train, y_train)\n",
        "\n",
        "# Plotting confusion matrix for RandomForest classifier\n",
        "plot_confusion_matrix(rfc, X_test, y_test, cmap = \"Greens\")"
      ],
      "metadata": {
        "id": "xDw-66WfTUkG",
        "colab": {
          "base_uri": "https://localhost:8080/",
          "height": 421
        },
        "outputId": "11fce4cb-9a0f-4bc9-8fe4-2cf4d6fc2390"
      },
      "execution_count": null,
      "outputs": [
        {
          "output_type": "stream",
          "name": "stderr",
          "text": [
            "[Parallel(n_jobs=1)]: Using backend SequentialBackend with 1 concurrent workers.\n",
            "[Parallel(n_jobs=1)]: Done 1000 out of 1000 | elapsed:   18.5s finished\n",
            "/usr/local/lib/python3.8/dist-packages/sklearn/utils/deprecation.py:87: FutureWarning: Function plot_confusion_matrix is deprecated; Function `plot_confusion_matrix` is deprecated in 1.0 and will be removed in 1.2. Use one of the class methods: ConfusionMatrixDisplay.from_predictions or ConfusionMatrixDisplay.from_estimator.\n",
            "  warnings.warn(msg, category=FutureWarning)\n",
            "[Parallel(n_jobs=1)]: Using backend SequentialBackend with 1 concurrent workers.\n",
            "[Parallel(n_jobs=1)]: Done 1000 out of 1000 | elapsed:    1.1s finished\n"
          ]
        },
        {
          "output_type": "execute_result",
          "data": {
            "text/plain": [
              "<sklearn.metrics._plot.confusion_matrix.ConfusionMatrixDisplay at 0x7fc47738fe80>"
            ]
          },
          "metadata": {},
          "execution_count": 199
        },
        {
          "output_type": "display_data",
          "data": {
            "text/plain": [
              "<Figure size 432x288 with 2 Axes>"
            ],
            "image/png": "[encoded data removed]"
          },
          "metadata": {
            "needs_background": "light"
          }
        }
      ]
    },
    {
      "cell_type": "code",
      "source": [
        "accuracy_score(rfc.predict(X_test), y_test)"
      ],
      "metadata": {
        "id": "TotuMH_PTkjB",
        "colab": {
          "base_uri": "https://localhost:8080/"
        },
        "outputId": "f3fb7757-9805-4f8f-9bd8-144665e05c3d"
      },
      "execution_count": null,
      "outputs": [
        {
          "output_type": "stream",
          "name": "stderr",
          "text": [
            "[Parallel(n_jobs=1)]: Using backend SequentialBackend with 1 concurrent workers.\n",
            "[Parallel(n_jobs=1)]: Done 1000 out of 1000 | elapsed:    1.1s finished\n"
          ]
        },
        {
          "output_type": "execute_result",
          "data": {
            "text/plain": [
              "0.9800164570353826"
            ]
          },
          "metadata": {},
          "execution_count": 200
        }
      ]
    },
    {
      "cell_type": "markdown",
      "source": [
        "#### XGBoost Classifier for all the categorical variables:"
      ],
      "metadata": {
        "id": "MjUcYR0PTOPc"
      }
    },
    {
      "cell_type": "code",
      "source": [
        "# XGB Classifier\n",
        "xgbm = xgb.sklearn.XGBClassifier(learning_rate=0.1, \n",
        "                                  n_estimators=800, \n",
        "                                  nthread=10,\n",
        "                                  max_depth=18, \n",
        "                                  subsample=0.9, \n",
        "                                  colsample_bytree=0.9)\n",
        "\n",
        "xgbm.fit(X_train, y_train)\n",
        "\n",
        "\n",
        "# Plotting confusion matrix for categorical features\n",
        "plot_confusion_matrix(xgbm, X_test, y_test, cmap = \"Greens\")"
      ],
      "metadata": {
        "id": "lCcB4UW1TLb_",
        "colab": {
          "base_uri": "https://localhost:8080/",
          "height": 351
        },
        "outputId": "6e6d7e9b-aad1-42bc-e355-4e89a592112b"
      },
      "execution_count": null,
      "outputs": [
        {
          "output_type": "stream",
          "name": "stderr",
          "text": [
            "/usr/local/lib/python3.8/dist-packages/sklearn/utils/deprecation.py:87: FutureWarning: Function plot_confusion_matrix is deprecated; Function `plot_confusion_matrix` is deprecated in 1.0 and will be removed in 1.2. Use one of the class methods: ConfusionMatrixDisplay.from_predictions or ConfusionMatrixDisplay.from_estimator.\n",
            "  warnings.warn(msg, category=FutureWarning)\n"
          ]
        },
        {
          "output_type": "execute_result",
          "data": {
            "text/plain": [
              "<sklearn.metrics._plot.confusion_matrix.ConfusionMatrixDisplay at 0x7fc477344e20>"
            ]
          },
          "metadata": {},
          "execution_count": 201
        },
        {
          "output_type": "display_data",
          "data": {
            "text/plain": [
              "<Figure size 432x288 with 2 Axes>"
            ],
            "image/png": "[encoded data removed]"
          },
          "metadata": {
            "needs_background": "light"
          }
        }
      ]
    },
    {
      "cell_type": "code",
      "source": [
        "accuracy_score(xgbm.predict(X_test), y_test)"
      ],
      "metadata": {
        "id": "AcsrW9mRTStO",
        "colab": {
          "base_uri": "https://localhost:8080/"
        },
        "outputId": "57727bb2-9f02-4d32-9de6-d219a0cdb164"
      },
      "execution_count": null,
      "outputs": [
        {
          "output_type": "execute_result",
          "data": {
            "text/plain": [
              "0.986364170682967"
            ]
          },
          "metadata": {},
          "execution_count": 202
        }
      ]
    },
    {
      "cell_type": "markdown",
      "source": [
        "## **Part 3: NLP Classifiers + Performance Assessment**"
      ],
      "metadata": {
        "id": "8yeGNccFlDhW"
      }
    },
    {
      "cell_type": "markdown",
      "source": [
        "Natural language processing (NLP) refers to the branch of computer science—and more specifically, the branch of artificial intelligence or AI—concerned with giving computers the ability to understand text and spoken words in much the same way human beings can"
      ],
      "metadata": {
        "id": "eS-LrlpVsCT6"
      }
    },
    {
      "cell_type": "code",
      "source": [
        "# Load Packages\n",
        "import pandas as pd\n",
        "from nltk.tokenize import RegexpTokenizer\n",
        "default_tokenizer=RegexpTokenizer(r\"\\w+\")\n",
        "\n",
        "# Setting Column Width as None, to show full column values\n",
        "pd.set_option('display.max_colwidth', None)\n",
        "\n",
        "# Read the Dataset and Fetch a sample Description Columns\n",
        "data = pd.read_csv('fake_job_postings.csv')\n",
        "sample_description = data.loc[data['job_id'] == 1]['description'][0]\n",
        "print(\"Description Sample: \", sample_description)\n",
        "\n",
        "# Example for Converting to Tokens and Printing\n",
        "print(\"Tokens Sample: \", default_tokenizer.tokenize(sample_description))"
      ],
      "metadata": {
        "id": "nCsNd2JtlKuz",
        "colab": {
          "base_uri": "https://localhost:8080/"
        },
        "outputId": "f0d88b06-6f91-4a98-b4a6-78a972a828d1"
      },
      "execution_count": null,
      "outputs": [
        {
          "output_type": "stream",
          "name": "stdout",
          "text": [
            "Description Sample:  Food52, a fast-growing, James Beard Award-winning online food community and crowd-sourced and curated recipe hub, is currently interviewing full- and part-time unpaid interns to work in a small team of editors, executives, and developers in its New York City headquarters.Reproducing and/or repackaging existing Food52 content for a number of partner sites, such as Huffington Post, Yahoo, Buzzfeed, and more in their various content management systemsResearching blogs and websites for the Provisions by Food52 Affiliate ProgramAssisting in day-to-day affiliate program support, such as screening affiliates and assisting in any affiliate inquiriesSupporting with PR &amp; Events when neededHelping with office administrative work, such as filing, mailing, and preparing for meetingsWorking with developers to document bugs and suggest improvements to the siteSupporting the marketing and executive staff\n",
            "Tokens Sample:  ['Food52', 'a', 'fast', 'growing', 'James', 'Beard', 'Award', 'winning', 'online', 'food', 'community', 'and', 'crowd', 'sourced', 'and', 'curated', 'recipe', 'hub', 'is', 'currently', 'interviewing', 'full', 'and', 'part', 'time', 'unpaid', 'interns', 'to', 'work', 'in', 'a', 'small', 'team', 'of', 'editors', 'executives', 'and', 'developers', 'in', 'its', 'New', 'York', 'City', 'headquarters', 'Reproducing', 'and', 'or', 'repackaging', 'existing', 'Food52', 'content', 'for', 'a', 'number', 'of', 'partner', 'sites', 'such', 'as', 'Huffington', 'Post', 'Yahoo', 'Buzzfeed', 'and', 'more', 'in', 'their', 'various', 'content', 'management', 'systemsResearching', 'blogs', 'and', 'websites', 'for', 'the', 'Provisions', 'by', 'Food52', 'Affiliate', 'ProgramAssisting', 'in', 'day', 'to', 'day', 'affiliate', 'program', 'support', 'such', 'as', 'screening', 'affiliates', 'and', 'assisting', 'in', 'any', 'affiliate', 'inquiriesSupporting', 'with', 'PR', 'amp', 'Events', 'when', 'neededHelping', 'with', 'office', 'administrative', 'work', 'such', 'as', 'filing', 'mailing', 'and', 'preparing', 'for', 'meetingsWorking', 'with', 'developers', 'to', 'document', 'bugs', 'and', 'suggest', 'improvements', 'to', 'the', 'siteSupporting', 'the', 'marketing', 'and', 'executive', 'staff']\n"
          ]
        }
      ]
    },
    {
      "cell_type": "code",
      "source": [
        "# Load Packages\n",
        "from nltk.stem.porter import PorterStemmer\n",
        "default_stemmer = PorterStemmer()\n",
        "\n",
        "# Printing the Text, Tokens and Stemmed Text\n",
        "print(\"Description Sample: \", sample_description)\n",
        "print(\"Tokens Sample:\", default_tokenizer.tokenize(sample_description))\n",
        "print(\"Stemmed String: \", ' '.join([default_stemmer.stem(t) for t in default_tokenizer.tokenize(sample_description)]))"
      ],
      "metadata": {
        "colab": {
          "base_uri": "https://localhost:8080/"
        },
        "id": "1bU5q8urlp9H",
        "outputId": "c24897eb-c526-4462-c750-69731b2fd9cc"
      },
      "execution_count": null,
      "outputs": [
        {
          "output_type": "stream",
          "name": "stdout",
          "text": [
            "Description Sample:  Food52, a fast-growing, James Beard Award-winning online food community and crowd-sourced and curated recipe hub, is currently interviewing full- and part-time unpaid interns to work in a small team of editors, executives, and developers in its New York City headquarters.Reproducing and/or repackaging existing Food52 content for a number of partner sites, such as Huffington Post, Yahoo, Buzzfeed, and more in their various content management systemsResearching blogs and websites for the Provisions by Food52 Affiliate ProgramAssisting in day-to-day affiliate program support, such as screening affiliates and assisting in any affiliate inquiriesSupporting with PR &amp; Events when neededHelping with office administrative work, such as filing, mailing, and preparing for meetingsWorking with developers to document bugs and suggest improvements to the siteSupporting the marketing and executive staff\n",
            "Tokens Sample: ['Food52', 'a', 'fast', 'growing', 'James', 'Beard', 'Award', 'winning', 'online', 'food', 'community', 'and', 'crowd', 'sourced', 'and', 'curated', 'recipe', 'hub', 'is', 'currently', 'interviewing', 'full', 'and', 'part', 'time', 'unpaid', 'interns', 'to', 'work', 'in', 'a', 'small', 'team', 'of', 'editors', 'executives', 'and', 'developers', 'in', 'its', 'New', 'York', 'City', 'headquarters', 'Reproducing', 'and', 'or', 'repackaging', 'existing', 'Food52', 'content', 'for', 'a', 'number', 'of', 'partner', 'sites', 'such', 'as', 'Huffington', 'Post', 'Yahoo', 'Buzzfeed', 'and', 'more', 'in', 'their', 'various', 'content', 'management', 'systemsResearching', 'blogs', 'and', 'websites', 'for', 'the', 'Provisions', 'by', 'Food52', 'Affiliate', 'ProgramAssisting', 'in', 'day', 'to', 'day', 'affiliate', 'program', 'support', 'such', 'as', 'screening', 'affiliates', 'and', 'assisting', 'in', 'any', 'affiliate', 'inquiriesSupporting', 'with', 'PR', 'amp', 'Events', 'when', 'neededHelping', 'with', 'office', 'administrative', 'work', 'such', 'as', 'filing', 'mailing', 'and', 'preparing', 'for', 'meetingsWorking', 'with', 'developers', 'to', 'document', 'bugs', 'and', 'suggest', 'improvements', 'to', 'the', 'siteSupporting', 'the', 'marketing', 'and', 'executive', 'staff']\n",
            "Stemmed String:  food52 a fast grow jame beard award win onlin food commun and crowd sourc and curat recip hub is current interview full and part time unpaid intern to work in a small team of editor execut and develop in it new york citi headquart reproduc and or repackag exist food52 content for a number of partner site such as huffington post yahoo buzzfe and more in their variou content manag systemsresearch blog and websit for the provis by food52 affili programassist in day to day affili program support such as screen affili and assist in ani affili inquiriessupport with pr amp event when neededhelp with offic administr work such as file mail and prepar for meetingswork with develop to document bug and suggest improv to the sitesupport the market and execut staff\n"
          ]
        }
      ]
    },
    {
      "cell_type": "code",
      "source": [
        "# Load Packages \n",
        "import nltk\n",
        "nltk.download('stopwords')\n",
        "from nltk.corpus import stopwords\n",
        "default_stopwords = stopwords.words('english')\n",
        "\n",
        "# Getting the Stemmed Text\n",
        "stemmed_text = ' '.join([default_stemmer.stem(t) for t in default_tokenizer.tokenize(sample_description)])\n",
        "print(\"Stemmed String: \", stemmed_text)\n",
        "# Iterating over tokenized Stemmed Text and removing Stop Words.\n",
        "stop_words_clean_text = [w for w in default_tokenizer.tokenize(stemmed_text) if w not in default_stopwords]\n",
        "print(\"Stop Words Cleaned Text: \", stop_words_clean_text)\n"
      ],
      "metadata": {
        "colab": {
          "base_uri": "https://localhost:8080/"
        },
        "id": "5NwGLhovlsqg",
        "outputId": "f6f45302-a73d-48f7-96b2-fbe530f1983f"
      },
      "execution_count": null,
      "outputs": [
        {
          "output_type": "stream",
          "name": "stdout",
          "text": [
            "Stemmed String:  food52 a fast grow jame beard award win onlin food commun and crowd sourc and curat recip hub is current interview full and part time unpaid intern to work in a small team of editor execut and develop in it new york citi headquart reproduc and or repackag exist food52 content for a number of partner site such as huffington post yahoo buzzfe and more in their variou content manag systemsresearch blog and websit for the provis by food52 affili programassist in day to day affili program support such as screen affili and assist in ani affili inquiriessupport with pr amp event when neededhelp with offic administr work such as file mail and prepar for meetingswork with develop to document bug and suggest improv to the sitesupport the market and execut staff\n",
            "Stop Words Cleaned Text:  ['food52', 'fast', 'grow', 'jame', 'beard', 'award', 'win', 'onlin', 'food', 'commun', 'crowd', 'sourc', 'curat', 'recip', 'hub', 'current', 'interview', 'full', 'part', 'time', 'unpaid', 'intern', 'work', 'small', 'team', 'editor', 'execut', 'develop', 'new', 'york', 'citi', 'headquart', 'reproduc', 'repackag', 'exist', 'food52', 'content', 'number', 'partner', 'site', 'huffington', 'post', 'yahoo', 'buzzfe', 'variou', 'content', 'manag', 'systemsresearch', 'blog', 'websit', 'provis', 'food52', 'affili', 'programassist', 'day', 'day', 'affili', 'program', 'support', 'screen', 'affili', 'assist', 'ani', 'affili', 'inquiriessupport', 'pr', 'amp', 'event', 'neededhelp', 'offic', 'administr', 'work', 'file', 'mail', 'prepar', 'meetingswork', 'develop', 'document', 'bug', 'suggest', 'improv', 'sitesupport', 'market', 'execut', 'staff']\n"
          ]
        },
        {
          "output_type": "stream",
          "name": "stderr",
          "text": [
            "[nltk_data] Downloading package stopwords to /root/nltk_data...\n",
            "[nltk_data]   Unzipping corpora/stopwords.zip.\n"
          ]
        }
      ]
    },
    {
      "cell_type": "code",
      "source": [
        "# Loading Packages\n",
        "import numpy as np \n",
        "import pandas as pd\n",
        "import re \n",
        "from nltk.stem.porter import PorterStemmer\n",
        "from nltk.corpus import stopwords\n",
        "from nltk.tokenize import RegexpTokenizer\n",
        "\n",
        "# Initiating Variables\n",
        "default_stemmer = PorterStemmer()\n",
        "default_stopwords = stopwords.words('english')\n",
        "default_tokenizer = RegexpTokenizer(r\"\\w+\")\n",
        "\n",
        "# Loading DataSet\n",
        "data = pd.read_csv('fake_job_postings.csv')\n",
        "\n",
        "# Extracting Text Features\n",
        "data = data.replace(np.nan, '', regex=True)\n",
        "text_data = data[['title', 'company_profile', 'description', 'requirements', 'benefits']] "
      ],
      "metadata": {
        "id": "XIbWR5SMmDlZ"
      },
      "execution_count": null,
      "outputs": []
    },
    {
      "cell_type": "code",
      "source": [
        "# Function to do Tokenization, Stemming, Removing Stop Words and Data Cleaning\n",
        "def clean_text(text, ):\n",
        "        # Text Cleaning Steps\n",
        "        if text is not None:\n",
        "                text = re.sub(r'[0-9]+','',text)\n",
        "                text =  text.lower()\n",
        "                text = re.sub('re:', '', text)\n",
        "                text = re.sub('-', '', text)\n",
        "                text = re.sub('_', '', text)\n",
        "                text = re.sub(r'^https?:\\/\\/.*[\\r\\n]*', '', text, flags=re.MULTILINE)\n",
        "                text = re.sub(r'\\S*@\\S*\\s?', '', text, flags=re.MULTILINE)\n",
        "                text = re.sub('\\[[^]]*\\]', '', text)\n",
        "                text = re.sub(r'[^\\w\\s]','',text)\n",
        "                text = re.sub(r'\\n',' ',text)\n",
        "                text = re.sub(r'[0-9]+','',text)\n",
        "                p = re.compile(r'<.*?>')\n",
        "                text = re.sub(r\"\\'ve\", \" have \", text)\n",
        "                text = re.sub(r\"can't\", \"cannot \", text)\n",
        "                text = re.sub(r\"n't\", \" not \", text)\n",
        "                text = re.sub(r\"I'm\", \"I am\", text)\n",
        "                text = re.sub(r\" m \", \" am \", text)\n",
        "                text = re.sub(r\"\\'re\", \" are \", text)\n",
        "                text = re.sub(r\"\\'d\", \" would \", text)\n",
        "                text = re.sub(r\"\\'ll\", \" will \", text)\n",
        "        \n",
        "                text = p.sub('', text)\n",
        "        # Tokenization Step\n",
        "        def tokenize_text(text,tokenizer=default_tokenizer):\n",
        "            token = default_tokenizer.tokenize(text)\n",
        "            return token\n",
        "        # Removing Stop Words Step\n",
        "        def remove_stopwords(text, stop_words=default_stopwords):\n",
        "            tokens = [w for w in tokenize_text(text) if w not in stop_words]\n",
        "            return ' '.join(tokens)\n",
        "        # Stemming the Text Step\n",
        "        def stem_text(text, stemmer=default_stemmer):\n",
        "            tokens = tokenize_text(text)\n",
        "            return ' '.join([stemmer.stem(t) for t in tokens])\n",
        "\n",
        "        text = stem_text(text)\n",
        "        text = remove_stopwords(text) \n",
        "\n",
        "        return text"
      ],
      "metadata": {
        "id": "RyX8v5-DmE72"
      },
      "execution_count": null,
      "outputs": []
    },
    {
      "cell_type": "code",
      "source": [
        "# Processing Each Individual Text Column in Data\n",
        "text_data['title'] = text_data['title'].apply(clean_text)\n",
        "text_data['company_profile'] = text_data['company_profile'].apply(clean_text)\n",
        "text_data['description'] = text_data['description'].apply(clean_text)\n",
        "text_data['requirements'] = text_data['requirements'].apply(clean_text)\n",
        "text_data['benefits'] = text_data['benefits'].apply(clean_text)"
      ],
      "metadata": {
        "id": "pGtlALJMmKw-"
      },
      "execution_count": null,
      "outputs": []
    },
    {
      "cell_type": "markdown",
      "source": [
        "**TF-IDF Vectorization Example**\n",
        "![Screenshot 2022-12-11 at 1.22.58 PM.png](data:image/png;base64,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)\n"
      ],
      "metadata": {
        "id": "v0DEtlj-swl-"
      }
    },
    {
      "cell_type": "code",
      "source": [
        "# Example Cell\n",
        "# Converting Textual Information to Numerical Features.\n",
        "# Vectorization of Data\n",
        "from sklearn.feature_extraction.text import TfidfVectorizer\n",
        "# Max Features keeping a value big enough to accomodate all unique words\n",
        "cv = TfidfVectorizer(max_features = 1000)\n",
        "x = cv.fit_transform(text_data['title'])\n",
        "df_title = pd.DataFrame(x.toarray(), columns=cv.get_feature_names())"
      ],
      "metadata": {
        "colab": {
          "base_uri": "https://localhost:8080/"
        },
        "id": "vPitLPelmNsz",
        "outputId": "f3ca762d-c957-4b32-d63c-7ffd5fa28fd0"
      },
      "execution_count": null,
      "outputs": [
        {
          "output_type": "stream",
          "name": "stderr",
          "text": [
            "/usr/local/lib/python3.8/dist-packages/sklearn/utils/deprecation.py:87: FutureWarning: Function get_feature_names is deprecated; get_feature_names is deprecated in 1.0 and will be removed in 1.2. Please use get_feature_names_out instead.\n",
            "  warnings.warn(msg, category=FutureWarning)\n"
          ]
        }
      ]
    },
    {
      "cell_type": "code",
      "source": [
        "# Appending all the Columns into a Single Column\n",
        "text_data_single_column = text_data[['title', 'company_profile','description','requirements','benefits']].apply(lambda x: ' '.join(x), axis = 1) \n",
        "text_data_single_column = text_data_single_column.to_frame()"
      ],
      "metadata": {
        "id": "KlAfrzA9mPVK"
      },
      "execution_count": null,
      "outputs": []
    },
    {
      "cell_type": "code",
      "source": [
        "# TF-IDF Vectorization\n",
        "# max_features = no of maximum words allowed in the Corpus\n",
        "tf_idf_fit = TfidfVectorizer(max_features = 1000)\n",
        "# renaming column for consistency\n",
        "text_data_single_column = text_data_single_column.rename(columns = {text_data_single_column.columns[0]: 'text'})\n",
        "# Fitting the data\n",
        "temp_results = tf_idf_fit.fit_transform(text_data_single_column['text'])\n",
        "# Converting the results to a Dataframe\n",
        "temp_df = pd.DataFrame(temp_results.toarray(), columns=cv.get_feature_names_out())\n",
        "X_Dataframae = temp_df"
      ],
      "metadata": {
        "id": "Shv6UifMmQYb"
      },
      "execution_count": null,
      "outputs": []
    },
    {
      "cell_type": "code",
      "source": [
        "# Generating our X and Y Values\n",
        "Y = data.iloc[:,-1]\n",
        "X = X_Dataframae\n",
        "\n",
        "# Load Library\n",
        "import matplotlib.pyplot as plt\n",
        "plt.bar(Y.unique(), Y.value_counts(), color = ['lightgreen', 'red'])\n",
        " \n",
        "plt.title(\"fraudulent Job Data Set\")\n",
        "plt.show()"
      ],
      "metadata": {
        "colab": {
          "base_uri": "https://localhost:8080/",
          "height": 281
        },
        "id": "hsfWLUlKmR8T",
        "outputId": "9c8c9749-7f00-453d-9d78-fe22fac06aac"
      },
      "execution_count": null,
      "outputs": [
        {
          "output_type": "display_data",
          "data": {
            "text/plain": [
              "<Figure size 432x288 with 1 Axes>"
            ],
            "image/png": "[encoded data removed]"
          },
          "metadata": {
            "needs_background": "light"
          }
        }
      ]
    },
    {
      "cell_type": "code",
      "source": [
        "# Load Library\n",
        "from imblearn.over_sampling import SMOTE\n",
        "import matplotlib.pyplot as plt\n",
        "\n",
        "# Using SMOTE to oversample the minority class\n",
        "# Selecting a random_state to re-run the code without any issues\n",
        "smk  = SMOTE(random_state=0)\n",
        "# Saving the results into X_result and Y_result\n",
        "X_result,Y_result = smk.fit_resample(X,Y)\n",
        "\n",
        "\n",
        "# Plotting the Graph to demonstrate the resuls after using SMOTE\n",
        "plt.bar(Y_result.unique(), Y_result.value_counts(), color = ['lightgreen', 'red'])\n",
        " \n",
        "plt.title(\"fraudulent Job Data Set\")\n",
        "plt.show()\n"
      ],
      "metadata": {
        "colab": {
          "base_uri": "https://localhost:8080/",
          "height": 281
        },
        "id": "PfJnpjThmTNv",
        "outputId": "2d9aaf02-d4f1-4146-ad0d-ffeeb365d4cc"
      },
      "execution_count": null,
      "outputs": [
        {
          "output_type": "display_data",
          "data": {
            "text/plain": [
              "<Figure size 432x288 with 1 Axes>"
            ],
            "image/png": "[encoded data removed]"
          },
          "metadata": {
            "needs_background": "light"
          }
        }
      ]
    },
    {
      "cell_type": "code",
      "source": [
        "# Load Library\n",
        "from sklearn.model_selection import train_test_split\n",
        "\n",
        "# Train Test Split\n",
        "X_train, X_test, y_train, y_test = train_test_split(X_result, Y_result, test_size=0.25, random_state=0)"
      ],
      "metadata": {
        "id": "gZqdH_EpmUhN"
      },
      "execution_count": null,
      "outputs": []
    },
    {
      "cell_type": "code",
      "source": [
        "# Load Library\n",
        "from sklearn.linear_model import LogisticRegression\n",
        "from sklearn.metrics import ConfusionMatrixDisplay\n",
        "\n",
        "# Fitting the Model\n",
        "Logistic_Regression_Model = LogisticRegression(random_state=0, verbose=1).fit(X_train, y_train)\n",
        "# Plotting the Confusion Matrix\n",
        "ConfusionMatrixDisplay.from_estimator(Logistic_Regression_Model, X_test, y_test, cmap='Greens')"
      ],
      "metadata": {
        "colab": {
          "base_uri": "https://localhost:8080/",
          "height": 331
        },
        "id": "jWCZ-ualmVyc",
        "outputId": "34a6546a-a64a-47b9-a91b-b3fef54f25fc"
      },
      "execution_count": null,
      "outputs": [
        {
          "output_type": "stream",
          "name": "stderr",
          "text": [
            "[Parallel(n_jobs=1)]: Using backend SequentialBackend with 1 concurrent workers.\n",
            "[Parallel(n_jobs=1)]: Done   1 out of   1 | elapsed:    2.1s finished\n"
          ]
        },
        {
          "output_type": "execute_result",
          "data": {
            "text/plain": [
              "<sklearn.metrics._plot.confusion_matrix.ConfusionMatrixDisplay at 0x7f54e9fda070>"
            ]
          },
          "metadata": {},
          "execution_count": 14
        },
        {
          "output_type": "display_data",
          "data": {
            "text/plain": [
              "<Figure size 432x288 with 2 Axes>"
            ],
            "image/png": "[encoded data removed]"
          },
          "metadata": {
            "needs_background": "light"
          }
        }
      ]
    },
    {
      "cell_type": "code",
      "source": [
        "# Load Library\n",
        "from sklearn.ensemble import RandomForestClassifier\n",
        "\n",
        "# Fitting the Model\n",
        "Random_Forest_Model = RandomForestClassifier(random_state=0, verbose=1).fit(X_train, y_train)\n",
        "# Plotting the Confusion Matrix\n",
        "ConfusionMatrixDisplay.from_estimator(Random_Forest_Model, X_test, y_test, cmap='Greens')"
      ],
      "metadata": {
        "colab": {
          "base_uri": "https://localhost:8080/",
          "height": 366
        },
        "id": "2cIH17K4mW3Y",
        "outputId": "ea6b8394-9bda-4417-b2df-0c2498723670"
      },
      "execution_count": null,
      "outputs": [
        {
          "output_type": "stream",
          "name": "stderr",
          "text": [
            "[Parallel(n_jobs=1)]: Using backend SequentialBackend with 1 concurrent workers.\n",
            "[Parallel(n_jobs=1)]: Done 100 out of 100 | elapsed:   27.7s finished\n",
            "[Parallel(n_jobs=1)]: Using backend SequentialBackend with 1 concurrent workers.\n",
            "[Parallel(n_jobs=1)]: Done 100 out of 100 | elapsed:    0.4s finished\n"
          ]
        },
        {
          "output_type": "execute_result",
          "data": {
            "text/plain": [
              "<sklearn.metrics._plot.confusion_matrix.ConfusionMatrixDisplay at 0x7f54ea289d30>"
            ]
          },
          "metadata": {},
          "execution_count": 15
        },
        {
          "output_type": "display_data",
          "data": {
            "text/plain": [
              "<Figure size 432x288 with 2 Axes>"
            ],
            "image/png": "[encoded data removed]"
          },
          "metadata": {
            "needs_background": "light"
          }
        }
      ]
    },
    {
      "cell_type": "code",
      "source": [
        "# Load Library\n",
        "from sklearn.tree import DecisionTreeClassifier\n",
        "\n",
        "# Fitting the Model\n",
        "Decision_Tree_Model = DecisionTreeClassifier(random_state=0).fit(X_train, y_train)\n",
        "# Plotting the Confusion Matrix\n",
        "ConfusionMatrixDisplay.from_estimator(Decision_Tree_Model, X_test, y_test, cmap='Greens')"
      ],
      "metadata": {
        "colab": {
          "base_uri": "https://localhost:8080/",
          "height": 296
        },
        "id": "ld9BujEImX-E",
        "outputId": "c3ec42d0-7382-4e2f-b4b2-4def2f15360f"
      },
      "execution_count": null,
      "outputs": [
        {
          "output_type": "execute_result",
          "data": {
            "text/plain": [
              "<sklearn.metrics._plot.confusion_matrix.ConfusionMatrixDisplay at 0x7f54ea339850>"
            ]
          },
          "metadata": {},
          "execution_count": 16
        },
        {
          "output_type": "display_data",
          "data": {
            "text/plain": [
              "<Figure size 432x288 with 2 Axes>"
            ],
            "image/png": "[encoded data removed]"
          },
          "metadata": {
            "needs_background": "light"
          }
        }
      ]
    },
    {
      "cell_type": "code",
      "source": [
        "# Load Library\n",
        "from sklearn.naive_bayes import GaussianNB\n",
        "\n",
        "# Fitting the Model\n",
        "Gaussion_NB_Model = GaussianNB().fit(X_train, y_train)\n",
        "# Plotting the Confusion Matrix\n",
        "ConfusionMatrixDisplay.from_estimator(Gaussion_NB_Model, X_test, y_test, cmap='Greens')"
      ],
      "metadata": {
        "colab": {
          "base_uri": "https://localhost:8080/",
          "height": 296
        },
        "id": "jakaXRe2mZz9",
        "outputId": "00d0c607-5bbf-46e4-82e3-85fb6696b8ec"
      },
      "execution_count": null,
      "outputs": [
        {
          "output_type": "execute_result",
          "data": {
            "text/plain": [
              "<sklearn.metrics._plot.confusion_matrix.ConfusionMatrixDisplay at 0x7f54e9d86970>"
            ]
          },
          "metadata": {},
          "execution_count": 17
        },
        {
          "output_type": "display_data",
          "data": {
            "text/plain": [
              "<Figure size 432x288 with 2 Axes>"
            ],
            "image/png": "[encoded data removed]"
          },
          "metadata": {
            "needs_background": "light"
          }
        }
      ]
    },
    {
      "cell_type": "code",
      "source": [
        "# Load Library\n",
        "from sklearn.naive_bayes import MultinomialNB\n",
        "\n",
        "# Fitting the Model\n",
        "Multinomial_NB_Model = MultinomialNB().fit(X_train, y_train)\n",
        "# Plotting the Confusion Matrix\n",
        "ConfusionMatrixDisplay.from_estimator(Multinomial_NB_Model, X_test, y_test, cmap='Greens')"
      ],
      "metadata": {
        "colab": {
          "base_uri": "https://localhost:8080/",
          "height": 296
        },
        "id": "0iZFwi8gmbF5",
        "outputId": "8ccb653a-77e4-4635-801c-9b6d4879153b"
      },
      "execution_count": null,
      "outputs": [
        {
          "output_type": "execute_result",
          "data": {
            "text/plain": [
              "<sklearn.metrics._plot.confusion_matrix.ConfusionMatrixDisplay at 0x7f54e9bda5b0>"
            ]
          },
          "metadata": {},
          "execution_count": 18
        },
        {
          "output_type": "display_data",
          "data": {
            "text/plain": [
              "<Figure size 432x288 with 2 Axes>"
            ],
            "image/png": "[encoded data removed]"
          },
          "metadata": {
            "needs_background": "light"
          }
        }
      ]
    },
    {
      "cell_type": "code",
      "source": [
        "# Load Library\n",
        "from sklearn.naive_bayes import ComplementNB\n",
        "\n",
        "# Fitting the Model\n",
        "Complement_NB_Model = ComplementNB().fit(X_train, y_train)\n",
        "# Plotting the Confusion Matrix\n",
        "ConfusionMatrixDisplay.from_estimator(Complement_NB_Model, X_test, y_test, cmap='Greens')"
      ],
      "metadata": {
        "colab": {
          "base_uri": "https://localhost:8080/",
          "height": 296
        },
        "id": "hfBO44x9mcI_",
        "outputId": "28a6c759-123d-470f-d86d-9b77850394ee"
      },
      "execution_count": null,
      "outputs": [
        {
          "output_type": "execute_result",
          "data": {
            "text/plain": [
              "<sklearn.metrics._plot.confusion_matrix.ConfusionMatrixDisplay at 0x7f54e97e3f40>"
            ]
          },
          "metadata": {},
          "execution_count": 19
        },
        {
          "output_type": "display_data",
          "data": {
            "text/plain": [
              "<Figure size 432x288 with 2 Axes>"
            ],
            "image/png": "[encoded data removed]"
          },
          "metadata": {
            "needs_background": "light"
          }
        }
      ]
    },
    {
      "cell_type": "code",
      "source": [
        "# Load Library\n",
        "from sklearn.neural_network import MLPClassifier\n",
        "\n",
        "MLP_LBFGS_Model = MLPClassifier(solver='lbfgs', activation = 'relu', hidden_layer_sizes = (100,50,30), max_iter = 1000, verbose=1)\n",
        "MLP_LBFGS_Model.fit(X_train, y_train)"
      ],
      "metadata": {
        "colab": {
          "base_uri": "https://localhost:8080/"
        },
        "id": "jMVKlhPKmhVo",
        "outputId": "aad9a67b-876b-4bb0-b370-abd3b6008c43"
      },
      "execution_count": null,
      "outputs": [
        {
          "output_type": "execute_result",
          "data": {
            "text/plain": [
              "MLPClassifier(hidden_layer_sizes=(100, 50, 30), max_iter=1000, solver='lbfgs',\n",
              "              verbose=1)"
            ]
          },
          "metadata": {},
          "execution_count": 39
        }
      ]
    },
    {
      "cell_type": "code",
      "source": [
        "from sklearn.metrics import ConfusionMatrixDisplay\n",
        "# Plotting the Confusion Matrix\n",
        "ConfusionMatrixDisplay.from_estimator(MLP_LBFGS_Model, X_test, y_test, cmap='Greens')"
      ],
      "metadata": {
        "colab": {
          "base_uri": "https://localhost:8080/",
          "height": 296
        },
        "id": "d6kZgACimmtX",
        "outputId": "f1a5f4b7-7777-45f8-f4e4-f8f9449db38c"
      },
      "execution_count": null,
      "outputs": [
        {
          "output_type": "execute_result",
          "data": {
            "text/plain": [
              "<sklearn.metrics._plot.confusion_matrix.ConfusionMatrixDisplay at 0x7f54feaea670>"
            ]
          },
          "metadata": {},
          "execution_count": 40
        },
        {
          "output_type": "display_data",
          "data": {
            "text/plain": [
              "<Figure size 432x288 with 2 Axes>"
            ],
            "image/png": "[encoded data removed]"
          },
          "metadata": {
            "needs_background": "light"
          }
        }
      ]
    },
    {
      "cell_type": "code",
      "source": [
        "# Load Library\n",
        "from sklearn.neural_network import MLPClassifier\n",
        "\n",
        "MLP_ADAM_Model = MLPClassifier(solver='adam', activation = 'relu', hidden_layer_sizes = (100,50,30), max_iter = 1000, verbose=1)\n",
        "MLP_ADAM_Model.fit(X_train, y_train)"
      ],
      "metadata": {
        "colab": {
          "base_uri": "https://localhost:8080/"
        },
        "id": "iraiqljLmn6T",
        "outputId": "b4fb0abc-855f-4210-8f9c-4436b773c3eb"
      },
      "execution_count": null,
      "outputs": [
        {
          "output_type": "stream",
          "name": "stdout",
          "text": [
            "Iteration 1, loss = 0.34069877\n",
            "Iteration 2, loss = 0.06652752\n",
            "Iteration 3, loss = 0.02989732\n",
            "Iteration 4, loss = 0.01258112\n",
            "Iteration 5, loss = 0.00604102\n",
            "Iteration 6, loss = 0.00366924\n",
            "Iteration 7, loss = 0.00275789\n",
            "Iteration 8, loss = 0.00191182\n",
            "Iteration 9, loss = 0.00146409\n",
            "Iteration 10, loss = 0.00124721\n",
            "Iteration 11, loss = 0.00069517\n",
            "Iteration 12, loss = 0.00106224\n",
            "Iteration 13, loss = 0.00070849\n",
            "Iteration 14, loss = 0.00071056\n",
            "Iteration 15, loss = 0.00033264\n",
            "Iteration 16, loss = 0.00043976\n",
            "Iteration 17, loss = 0.00025521\n",
            "Iteration 18, loss = 0.00024199\n",
            "Iteration 19, loss = 0.00021135\n",
            "Iteration 20, loss = 0.00019762\n",
            "Iteration 21, loss = 0.00018954\n",
            "Iteration 22, loss = 0.00017358\n",
            "Iteration 23, loss = 0.00016444\n",
            "Iteration 24, loss = 0.00016112\n",
            "Iteration 25, loss = 0.00015898\n",
            "Iteration 26, loss = 0.00015775\n",
            "Training loss did not improve more than tol=0.000100 for 10 consecutive epochs. Stopping.\n"
          ]
        },
        {
          "output_type": "execute_result",
          "data": {
            "text/plain": [
              "MLPClassifier(hidden_layer_sizes=(100, 50, 30), max_iter=1000, verbose=1)"
            ]
          },
          "metadata": {},
          "execution_count": 41
        }
      ]
    },
    {
      "cell_type": "code",
      "source": [
        "# Plotting the Confusion Matrix\n",
        "ConfusionMatrixDisplay.from_estimator(MLP_ADAM_Model, X_test, y_test, cmap='Greens')"
      ],
      "metadata": {
        "colab": {
          "base_uri": "https://localhost:8080/",
          "height": 296
        },
        "id": "Wa95Vj1Emruf",
        "outputId": "0ff9ce68-7f1a-4c61-dcc9-5df2ca9dcdb0"
      },
      "execution_count": null,
      "outputs": [
        {
          "output_type": "execute_result",
          "data": {
            "text/plain": [
              "<sklearn.metrics._plot.confusion_matrix.ConfusionMatrixDisplay at 0x7f54d77b8b80>"
            ]
          },
          "metadata": {},
          "execution_count": 42
        },
        {
          "output_type": "display_data",
          "data": {
            "text/plain": [
              "<Figure size 432x288 with 2 Axes>"
            ],
            "image/png": "[encoded data removed]"
          },
          "metadata": {
            "needs_background": "light"
          }
        }
      ]
    },
    {
      "cell_type": "code",
      "source": [
        "# Load Libary\n",
        "from sklearn.metrics import accuracy_score\n",
        "from sklearn.ensemble import RandomForestClassifier\n",
        "\n",
        "accuracy_score_list = []\n",
        "# TF-IDF Vectorization\n",
        "for i in range(1, 10):\n",
        "  tf_idf_fit = TfidfVectorizer(max_features = i*1000)\n",
        "  temp_results = tf_idf_fit.fit_transform(text_data_single_column['text'])\n",
        "  X_Dataframae = temp_results\n",
        "\n",
        "  Y = data.iloc[:,-1]\n",
        "  X = X_Dataframae\n",
        "\n",
        "\n",
        "  smk  = SMOTE(random_state=0)\n",
        "  X_result,Y_result = smk.fit_resample(X,Y)\n",
        "  X_train, X_test, y_train, y_test = train_test_split(X_result, Y_result, test_size=0.25, random_state=0)\n",
        "\n",
        "\n",
        "  Random_Forest_Model = RandomForestClassifier(random_state=0, verbose=1).fit(X_train, y_train)\n",
        "  accuracy_score_list.append(accuracy_score(y_test, Random_Forest_Model.predict(X_test)))"
      ],
      "metadata": {
        "colab": {
          "base_uri": "https://localhost:8080/"
        },
        "id": "FKx-eiUQms6S",
        "outputId": "0ce4e3ba-4674-4477-e424-366a87ba7425"
      },
      "execution_count": null,
      "outputs": [
        {
          "output_type": "stream",
          "name": "stderr",
          "text": [
            "[Parallel(n_jobs=1)]: Using backend SequentialBackend with 1 concurrent workers.\n",
            "[Parallel(n_jobs=1)]: Done 100 out of 100 | elapsed:   56.5s finished\n",
            "[Parallel(n_jobs=1)]: Using backend SequentialBackend with 1 concurrent workers.\n",
            "[Parallel(n_jobs=1)]: Done 100 out of 100 | elapsed:    0.3s finished\n",
            "[Parallel(n_jobs=1)]: Using backend SequentialBackend with 1 concurrent workers.\n",
            "[Parallel(n_jobs=1)]: Done 100 out of 100 | elapsed:   41.2s finished\n",
            "[Parallel(n_jobs=1)]: Using backend SequentialBackend with 1 concurrent workers.\n",
            "[Parallel(n_jobs=1)]: Done 100 out of 100 | elapsed:    0.4s finished\n",
            "[Parallel(n_jobs=1)]: Using backend SequentialBackend with 1 concurrent workers.\n",
            "[Parallel(n_jobs=1)]: Done 100 out of 100 | elapsed:   36.9s finished\n",
            "[Parallel(n_jobs=1)]: Using backend SequentialBackend with 1 concurrent workers.\n",
            "[Parallel(n_jobs=1)]: Done 100 out of 100 | elapsed:    0.4s finished\n",
            "[Parallel(n_jobs=1)]: Using backend SequentialBackend with 1 concurrent workers.\n",
            "[Parallel(n_jobs=1)]: Done 100 out of 100 | elapsed:   34.5s finished\n",
            "[Parallel(n_jobs=1)]: Using backend SequentialBackend with 1 concurrent workers.\n",
            "[Parallel(n_jobs=1)]: Done 100 out of 100 | elapsed:    0.5s finished\n",
            "[Parallel(n_jobs=1)]: Using backend SequentialBackend with 1 concurrent workers.\n",
            "[Parallel(n_jobs=1)]: Done 100 out of 100 | elapsed:   32.4s finished\n",
            "[Parallel(n_jobs=1)]: Using backend SequentialBackend with 1 concurrent workers.\n",
            "[Parallel(n_jobs=1)]: Done 100 out of 100 | elapsed:    0.5s finished\n",
            "[Parallel(n_jobs=1)]: Using backend SequentialBackend with 1 concurrent workers.\n",
            "[Parallel(n_jobs=1)]: Done 100 out of 100 | elapsed:   30.8s finished\n",
            "[Parallel(n_jobs=1)]: Using backend SequentialBackend with 1 concurrent workers.\n",
            "[Parallel(n_jobs=1)]: Done 100 out of 100 | elapsed:    0.5s finished\n",
            "[Parallel(n_jobs=1)]: Using backend SequentialBackend with 1 concurrent workers.\n",
            "[Parallel(n_jobs=1)]: Done 100 out of 100 | elapsed:   29.4s finished\n",
            "[Parallel(n_jobs=1)]: Using backend SequentialBackend with 1 concurrent workers.\n",
            "[Parallel(n_jobs=1)]: Done 100 out of 100 | elapsed:    0.6s finished\n",
            "[Parallel(n_jobs=1)]: Using backend SequentialBackend with 1 concurrent workers.\n",
            "[Parallel(n_jobs=1)]: Done 100 out of 100 | elapsed:   28.9s finished\n",
            "[Parallel(n_jobs=1)]: Using backend SequentialBackend with 1 concurrent workers.\n",
            "[Parallel(n_jobs=1)]: Done 100 out of 100 | elapsed:    0.6s finished\n",
            "[Parallel(n_jobs=1)]: Using backend SequentialBackend with 1 concurrent workers.\n",
            "[Parallel(n_jobs=1)]: Done 100 out of 100 | elapsed:   28.1s finished\n",
            "[Parallel(n_jobs=1)]: Using backend SequentialBackend with 1 concurrent workers.\n",
            "[Parallel(n_jobs=1)]: Done 100 out of 100 | elapsed:    0.6s finished\n"
          ]
        }
      ]
    },
    {
      "cell_type": "code",
      "source": [
        "# Accuracy Plot\n",
        "plt.plot(range(1, len(accuracy_score_list) + 1), accuracy_score_list, marker='o', label='train')\n",
        "plt.title('Accuracy plot for Increasing Max Features')\n",
        "plt.xlabel('Max Iter Value / 1000')\n",
        "plt.legend(loc=\"upper left\")\n",
        "plt.ylabel('Accuracy Value')\n",
        "plt.show()"
      ],
      "metadata": {
        "colab": {
          "base_uri": "https://localhost:8080/",
          "height": 295
        },
        "id": "gJ-yFtIXmyx7",
        "outputId": "1b9f4346-f695-4952-c881-6b5e5bdc88c3"
      },
      "execution_count": null,
      "outputs": [
        {
          "output_type": "display_data",
          "data": {
            "text/plain": [
              "<Figure size 432x288 with 1 Axes>"
            ],
            "image/png": "[encoded data removed]"
          },
          "metadata": {
            "needs_background": "light"
          }
        }
      ]
    },
    {
      "cell_type": "code",
      "source": [
        "tf_idf_fit = TfidfVectorizer(max_features = 2000)\n",
        "temp_results = tf_idf_fit.fit_transform(text_data_single_column['text'])\n",
        "X_Dataframae = temp_results\n",
        "\n",
        "Y = data.iloc[:,-1]\n",
        "X = X_Dataframae\n",
        "\n",
        "\n",
        "smk  = SMOTE(random_state=0)\n",
        "X_result,Y_result = smk.fit_resample(X,Y)\n",
        "X_train, X_test, y_train, y_test = train_test_split(X_result, Y_result, test_size=0.25, random_state=0)"
      ],
      "metadata": {
        "id": "C6tettOwmzy2"
      },
      "execution_count": null,
      "outputs": []
    },
    {
      "cell_type": "code",
      "source": [
        "# Tuning MLP Classifier\n",
        "MLP_ADAM_Model = MLPClassifier(max_iter=100)\n",
        "parameter_space = {\n",
        "    'hidden_layer_sizes': [(100,50,30), (100,50,30, 20), (500,100,50, 10), (1000,500,100, 50)],\n",
        "    'activation': ['tanh', 'relu'],\n",
        "    'solver': ['sgd', 'adam'],\n",
        "    'alpha': [0.0001, 0.05],\n",
        "    'learning_rate': ['constant','adaptive'],\n",
        "}\n",
        "from sklearn.model_selection import GridSearchCV\n",
        "grid_search = GridSearchCV(MLP_ADAM_Model, parameter_space, n_jobs=-1, cv=5)\n",
        "grid_search.fit(X_train[:100], y_train[:100])"
      ],
      "metadata": {
        "colab": {
          "base_uri": "https://localhost:8080/"
        },
        "id": "6yrN3143m1I6",
        "outputId": "4fbcc2e1-ee7f-4285-9e3f-446886c278ae"
      },
      "execution_count": null,
      "outputs": [
        {
          "output_type": "stream",
          "name": "stderr",
          "text": [
            "/usr/local/lib/python3.8/dist-packages/sklearn/neural_network/_multilayer_perceptron.py:692: ConvergenceWarning: Stochastic Optimizer: Maximum iterations (100) reached and the optimization hasn't converged yet.\n",
            "  warnings.warn(\n"
          ]
        },
        {
          "output_type": "execute_result",
          "data": {
            "text/plain": [
              "GridSearchCV(cv=5, estimator=MLPClassifier(max_iter=100), n_jobs=-1,\n",
              "             param_grid={'activation': ['tanh', 'relu'],\n",
              "                         'alpha': [0.0001, 0.05],\n",
              "                         'hidden_layer_sizes': [(100, 50, 30),\n",
              "                                                (100, 50, 30, 20),\n",
              "                                                (500, 100, 50, 10),\n",
              "                                                (1000, 500, 100, 50)],\n",
              "                         'learning_rate': ['constant', 'adaptive'],\n",
              "                         'solver': ['sgd', 'adam']})"
            ]
          },
          "metadata": {},
          "execution_count": 48
        }
      ]
    },
    {
      "cell_type": "code",
      "source": [
        "grid_search.best_estimator_"
      ],
      "metadata": {
        "colab": {
          "base_uri": "https://localhost:8080/"
        },
        "id": "2fbTz63rm647",
        "outputId": "d27fe307-acea-45c0-fd15-05ab4b780f27"
      },
      "execution_count": null,
      "outputs": [
        {
          "output_type": "execute_result",
          "data": {
            "text/plain": [
              "MLPClassifier(activation='tanh', alpha=0.05,\n",
              "              hidden_layer_sizes=(500, 100, 50, 10), learning_rate='adaptive',\n",
              "              max_iter=100)"
            ]
          },
          "metadata": {},
          "execution_count": 49
        }
      ]
    },
    {
      "cell_type": "code",
      "source": [
        "# Load Library\n",
        "from sklearn.neural_network import MLPClassifier\n",
        "\n",
        "MLP_ADAM_Model = MLPClassifier(solver='adam', activation = 'relu', hidden_layer_sizes=(500, 100, 50, 10), max_iter = 1000, verbose=1)\n",
        "MLP_ADAM_Model.fit(X_train, y_train)\n",
        "# Plotting the Confusion Matrix\n",
        "ConfusionMatrixDisplay.from_estimator(MLP_ADAM_Model, X_test, y_test, cmap='Greens')"
      ],
      "metadata": {
        "colab": {
          "base_uri": "https://localhost:8080/",
          "height": 748
        },
        "id": "38P-GUHVm8UR",
        "outputId": "2226eee9-b945-4eaa-9ac3-fa4e31a54000"
      },
      "execution_count": null,
      "outputs": [
        {
          "output_type": "stream",
          "name": "stdout",
          "text": [
            "Iteration 1, loss = 0.15846408\n",
            "Iteration 2, loss = 0.01270513\n",
            "Iteration 3, loss = 0.00432139\n",
            "Iteration 4, loss = 0.00214260\n",
            "Iteration 5, loss = 0.00197187\n",
            "Iteration 6, loss = 0.00161018\n",
            "Iteration 7, loss = 0.00158424\n",
            "Iteration 8, loss = 0.00135293\n",
            "Iteration 9, loss = 0.00142757\n",
            "Iteration 10, loss = 0.00072730\n",
            "Iteration 11, loss = 0.00120419\n",
            "Iteration 12, loss = 0.00071631\n",
            "Iteration 13, loss = 0.00058579\n",
            "Iteration 14, loss = 0.00045114\n",
            "Iteration 15, loss = 0.00042948\n",
            "Iteration 16, loss = 0.00041238\n",
            "Iteration 17, loss = 0.00040142\n",
            "Iteration 18, loss = 0.00039236\n",
            "Iteration 19, loss = 0.00038392\n",
            "Iteration 20, loss = 0.00037562\n",
            "Iteration 21, loss = 0.00036704\n",
            "Iteration 22, loss = 0.00035862\n",
            "Iteration 23, loss = 0.00035028\n",
            "Iteration 24, loss = 0.00034195\n",
            "Iteration 25, loss = 0.00033359\n",
            "Training loss did not improve more than tol=0.000100 for 10 consecutive epochs. Stopping.\n"
          ]
        },
        {
          "output_type": "execute_result",
          "data": {
            "text/plain": [
              "<sklearn.metrics._plot.confusion_matrix.ConfusionMatrixDisplay at 0x7f54d7493b20>"
            ]
          },
          "metadata": {},
          "execution_count": 50
        },
        {
          "output_type": "display_data",
          "data": {
            "text/plain": [
              "<Figure size 432x288 with 2 Axes>"
            ],
            "image/png": "[encoded data removed]"
          },
          "metadata": {
            "needs_background": "light"
          }
        }
      ]
    },
    {
      "cell_type": "code",
      "source": [
        "\n",
        "from sklearn.metrics import accuracy_score\n",
        "print(\"Accuracy: \", accuracy_score(y_true=y_test, y_pred=MLP_ADAM_Model.predict(X_test)))"
      ],
      "metadata": {
        "colab": {
          "base_uri": "https://localhost:8080/"
        },
        "id": "LdQnJ4Zhm9Vo",
        "outputId": "746ec336-3892-402b-d88d-66ca8eaf31a9"
      },
      "execution_count": null,
      "outputs": [
        {
          "output_type": "stream",
          "name": "stdout",
          "text": [
            "Accuracy:  0.9955330903961443\n"
          ]
        }
      ]
    },
    {
      "cell_type": "code",
      "source": [
        "# End of Part 3!"
      ],
      "metadata": {
        "id": "uw6JggR9m-7I"
      },
      "execution_count": null,
      "outputs": []
    },
    {
      "cell_type": "markdown",
      "source": [],
      "metadata": {
        "id": "b976ZRH23zBs"
      }
    },
    {
      "cell_type": "markdown",
      "source": [
        "## **Part 4: Model Ensembling**"
      ],
      "metadata": {
        "id": "wf59F70unDcn"
      }
    },
    {
      "cell_type": "code",
      "source": [
        "# Loading Libraries\n",
        "from sklearn.linear_model import LogisticRegression\n",
        "from sklearn.ensemble import RandomForestClassifier\n",
        "import xgboost as xgb"
      ],
      "metadata": {
        "id": "sesbai8tnSrE"
      },
      "execution_count": null,
      "outputs": []
    },
    {
      "cell_type": "code",
      "source": [
        "# Stacking\n",
        "from sklearn.ensemble import StackingClassifier\n",
        "estimators = [('lr', LogisticRegression(C = 0.01, penalty = 'l2', random_state=50 ,solver = 'liblinear')),\n",
        "              ('rf', RandomForestClassifier(n_estimators = 1000, criterion='entropy', max_depth=18, random_state=0,  verbose=1,  warm_start = True)),\n",
        "              ('xgb', xgb.sklearn.XGBClassifier(learning_rate=0.1, n_estimators=800, nthread=10, max_depth=18, subsample=0.9, colsample_bytree=0.9))\n",
        "              ]"
      ],
      "metadata": {
        "id": "uwRsDt_BnVDU"
      },
      "execution_count": null,
      "outputs": []
    },
    {
      "cell_type": "code",
      "source": [
        "# Load packages\n",
        "import pandas as pd\n",
        "import numpy as np\n",
        "import matplotlib.pyplot as plt\n",
        "\n",
        "# Read the dataset, delete the \"job_id\" column and replace any missing values in the data with \"Not listed\"\n",
        "data = pd.read_csv(\"fake_job_postings.csv\")\n",
        "data = data.drop(columns=[\"job_id\"])\n",
        "data = data.replace(np.nan, \"Not Listed\")"
      ],
      "metadata": {
        "id": "pQHOtLX2nV7a"
      },
      "execution_count": null,
      "outputs": []
    },
    {
      "cell_type": "code",
      "source": [
        "# Create binary version of company_profile:\n",
        "data[\"bin_company_profile\"] = data[\"company_profile\"]\n",
        "data.loc[data[\"bin_company_profile\"] == \"Not Listed\", \"bin_company_profile\"] = 0\n",
        "data.loc[data[\"bin_company_profile\"] != 0, \"bin_company_profile\"] = 1"
      ],
      "metadata": {
        "id": "-37EzM18nXvA"
      },
      "execution_count": null,
      "outputs": []
    },
    {
      "cell_type": "code",
      "source": [
        "from sklearn.preprocessing import LabelEncoder\n",
        "\n",
        "data_cat = data.drop([\"title\", \"company_profile\", \"description\", \"requirements\", \"benefits\"], axis = 1)\n",
        "# Converting textual categorical features into numerical categorical features using Label Encoder\n",
        "le = LabelEncoder()\n",
        "data_cat[[\"employment_type\", \"required_experience\", \"required_education\", \"function\", \"industry\", \"salary_range\", \n",
        "          \"department\", \"location\"]] = data_cat[[\"employment_type\", \"required_experience\", \"required_education\", \"function\", \n",
        "                                                 \"industry\", \"salary_range\", \"department\", \"location\"]].apply(le.fit_transform)"
      ],
      "metadata": {
        "id": "8Og1-trznYus"
      },
      "execution_count": null,
      "outputs": []
    },
    {
      "cell_type": "code",
      "source": [
        "# Stacking Classifiers\n",
        "# Final Estimator - Logistic Regression Default\n",
        "Stacking_Model = StackingClassifier(estimators=estimators, final_estimator=LogisticRegression(), verbose=1)"
      ],
      "metadata": {
        "id": "bJSDXUsanZ8r"
      },
      "execution_count": null,
      "outputs": []
    },
    {
      "cell_type": "code",
      "source": [
        "# Splitting the inputs and output of the binary categorical data.\n",
        "X_Part_2 = data_cat.drop([\"fraudulent\"], axis = 1)\n",
        "Y_Part_2 = data_cat[\"fraudulent\"]\n",
        "\n",
        "smk  = SMOTE(random_state=0)\n",
        "# Saving the results into X_result and Y_result\n",
        "X_result_Part_2,Y_result_Part_2 = smk.fit_resample(X_Part_2,Y_Part_2)\n",
        "X_result_Part_2[\"bin_company_profile\"] = X_result_Part_2[\"bin_company_profile\"].astype(int)\n",
        "\n",
        "# Splitting the binary categorical data into training and testing dataset\n",
        "X_train_Part_2, X_test_Part_2, y_train_Part_2, y_test_Part_2 = train_test_split(X_result_Part_2, Y_result_Part_2, test_size=0.25, random_state=0)\n"
      ],
      "metadata": {
        "id": "AucB6uK2ncQ4"
      },
      "execution_count": null,
      "outputs": []
    },
    {
      "cell_type": "code",
      "source": [
        "Stacking_Model.fit(X_train_Part_2, y_train_Part_2)"
      ],
      "metadata": {
        "colab": {
          "base_uri": "https://localhost:8080/"
        },
        "id": "xXPHSJIEndso",
        "outputId": "55164c4a-c0bb-43df-b8ba-cfd39014edae"
      },
      "execution_count": null,
      "outputs": [
        {
          "output_type": "stream",
          "name": "stderr",
          "text": [
            "[Parallel(n_jobs=1)]: Using backend SequentialBackend with 1 concurrent workers.\n",
            "[Parallel(n_jobs=1)]: Done 1000 out of 1000 | elapsed:   33.2s finished\n",
            "[Parallel(n_jobs=1)]: Using backend SequentialBackend with 1 concurrent workers.\n",
            "[Parallel(n_jobs=1)]: Done   5 out of   5 | elapsed:    1.1s finished\n",
            "[Parallel(n_jobs=1)]: Using backend SequentialBackend with 1 concurrent workers.\n",
            "[Parallel(n_jobs=1)]: Using backend SequentialBackend with 1 concurrent workers.\n",
            "[Parallel(n_jobs=1)]: Done 1000 out of 1000 | elapsed:   18.4s finished\n",
            "[Parallel(n_jobs=1)]: Using backend SequentialBackend with 1 concurrent workers.\n",
            "[Parallel(n_jobs=1)]: Done 1000 out of 1000 | elapsed:    1.0s finished\n",
            "[Parallel(n_jobs=1)]: Using backend SequentialBackend with 1 concurrent workers.\n",
            "[Parallel(n_jobs=1)]: Done 1000 out of 1000 | elapsed:   18.4s finished\n",
            "[Parallel(n_jobs=1)]: Using backend SequentialBackend with 1 concurrent workers.\n",
            "[Parallel(n_jobs=1)]: Done 1000 out of 1000 | elapsed:    1.0s finished\n",
            "[Parallel(n_jobs=1)]: Using backend SequentialBackend with 1 concurrent workers.\n",
            "[Parallel(n_jobs=1)]: Done 1000 out of 1000 | elapsed:   18.4s finished\n",
            "[Parallel(n_jobs=1)]: Using backend SequentialBackend with 1 concurrent workers.\n",
            "[Parallel(n_jobs=1)]: Done 1000 out of 1000 | elapsed:    1.0s finished\n",
            "[Parallel(n_jobs=1)]: Using backend SequentialBackend with 1 concurrent workers.\n",
            "[Parallel(n_jobs=1)]: Done 1000 out of 1000 | elapsed:   18.4s finished\n",
            "[Parallel(n_jobs=1)]: Using backend SequentialBackend with 1 concurrent workers.\n",
            "[Parallel(n_jobs=1)]: Done 1000 out of 1000 | elapsed:    1.0s finished\n",
            "[Parallel(n_jobs=1)]: Using backend SequentialBackend with 1 concurrent workers.\n",
            "[Parallel(n_jobs=1)]: Done 1000 out of 1000 | elapsed:   18.4s finished\n",
            "[Parallel(n_jobs=1)]: Using backend SequentialBackend with 1 concurrent workers.\n",
            "[Parallel(n_jobs=1)]: Done 1000 out of 1000 | elapsed:    1.0s finished\n",
            "[Parallel(n_jobs=1)]: Done   5 out of   5 | elapsed:  1.7min finished\n",
            "[Parallel(n_jobs=1)]: Using backend SequentialBackend with 1 concurrent workers.\n",
            "[Parallel(n_jobs=1)]: Done   5 out of   5 | elapsed:  2.7min finished\n"
          ]
        },
        {
          "output_type": "execute_result",
          "data": {
            "text/plain": [
              "StackingClassifier(estimators=[('lr',\n",
              "                                LogisticRegression(C=0.01, random_state=50,\n",
              "                                                   solver='liblinear')),\n",
              "                               ('rf',\n",
              "                                RandomForestClassifier(criterion='entropy',\n",
              "                                                       max_depth=18,\n",
              "                                                       n_estimators=1000,\n",
              "                                                       random_state=0,\n",
              "                                                       verbose=1,\n",
              "                                                       warm_start=True)),\n",
              "                               ('xgb',\n",
              "                                XGBClassifier(colsample_bytree=0.9,\n",
              "                                              max_depth=18, n_estimators=800,\n",
              "                                              nthread=10, subsample=0.9))],\n",
              "                   final_estimator=LogisticRegression(), verbose=1)"
            ]
          },
          "metadata": {},
          "execution_count": 34
        }
      ]
    },
    {
      "cell_type": "code",
      "source": [
        "# Confusion Matrix\n",
        "ConfusionMatrixDisplay.from_estimator(Stacking_Model, X_test_Part_2, y_test_Part_2, cmap='Greens')"
      ],
      "metadata": {
        "colab": {
          "base_uri": "https://localhost:8080/",
          "height": 331
        },
        "id": "78oqdauBnfC2",
        "outputId": "5cbc196a-a731-42a9-bf32-a69566bec5bb"
      },
      "execution_count": null,
      "outputs": [
        {
          "output_type": "stream",
          "name": "stderr",
          "text": [
            "[Parallel(n_jobs=1)]: Using backend SequentialBackend with 1 concurrent workers.\n",
            "[Parallel(n_jobs=1)]: Done 1000 out of 1000 | elapsed:    1.6s finished\n"
          ]
        },
        {
          "output_type": "execute_result",
          "data": {
            "text/plain": [
              "<sklearn.metrics._plot.confusion_matrix.ConfusionMatrixDisplay at 0x7f54ebdf85e0>"
            ]
          },
          "metadata": {},
          "execution_count": 35
        },
        {
          "output_type": "display_data",
          "data": {
            "text/plain": [
              "<Figure size 432x288 with 2 Axes>"
            ],
            "image/png": "[encoded data removed]"
          },
          "metadata": {
            "needs_background": "light"
          }
        }
      ]
    },
    {
      "cell_type": "code",
      "source": [
        "# Changing the Final Estimator\n",
        "# Stacking Classifiers\n",
        "# Final Estimator - Random Forest Default\n",
        "Stacking_Model = StackingClassifier(estimators=estimators, final_estimator=RandomForestClassifier(), verbose=1)\n",
        "Stacking_Model.fit(X_train_Part_2, y_train_Part_2)"
      ],
      "metadata": {
        "colab": {
          "base_uri": "https://localhost:8080/"
        },
        "id": "7f--M3bSn1Zs",
        "outputId": "c916a9ce-5e55-4af1-e2dd-5fa0c2ff44ca"
      },
      "execution_count": null,
      "outputs": [
        {
          "output_type": "stream",
          "name": "stderr",
          "text": [
            "[Parallel(n_jobs=1)]: Using backend SequentialBackend with 1 concurrent workers.\n",
            "[Parallel(n_jobs=1)]: Done 1000 out of 1000 | elapsed:   22.4s finished\n",
            "[Parallel(n_jobs=1)]: Using backend SequentialBackend with 1 concurrent workers.\n",
            "[Parallel(n_jobs=1)]: Done   5 out of   5 | elapsed:    1.0s finished\n",
            "[Parallel(n_jobs=1)]: Using backend SequentialBackend with 1 concurrent workers.\n",
            "[Parallel(n_jobs=1)]: Using backend SequentialBackend with 1 concurrent workers.\n",
            "[Parallel(n_jobs=1)]: Done 1000 out of 1000 | elapsed:   18.5s finished\n",
            "[Parallel(n_jobs=1)]: Using backend SequentialBackend with 1 concurrent workers.\n",
            "[Parallel(n_jobs=1)]: Done 1000 out of 1000 | elapsed:    1.0s finished\n",
            "[Parallel(n_jobs=1)]: Using backend SequentialBackend with 1 concurrent workers.\n",
            "[Parallel(n_jobs=1)]: Done 1000 out of 1000 | elapsed:   18.5s finished\n",
            "[Parallel(n_jobs=1)]: Using backend SequentialBackend with 1 concurrent workers.\n",
            "[Parallel(n_jobs=1)]: Done 1000 out of 1000 | elapsed:    1.0s finished\n",
            "[Parallel(n_jobs=1)]: Using backend SequentialBackend with 1 concurrent workers.\n",
            "[Parallel(n_jobs=1)]: Done 1000 out of 1000 | elapsed:   18.4s finished\n",
            "[Parallel(n_jobs=1)]: Using backend SequentialBackend with 1 concurrent workers.\n",
            "[Parallel(n_jobs=1)]: Done 1000 out of 1000 | elapsed:    1.0s finished\n",
            "[Parallel(n_jobs=1)]: Using backend SequentialBackend with 1 concurrent workers.\n",
            "[Parallel(n_jobs=1)]: Done 1000 out of 1000 | elapsed:   18.3s finished\n",
            "[Parallel(n_jobs=1)]: Using backend SequentialBackend with 1 concurrent workers.\n",
            "[Parallel(n_jobs=1)]: Done 1000 out of 1000 | elapsed:    1.0s finished\n",
            "[Parallel(n_jobs=1)]: Using backend SequentialBackend with 1 concurrent workers.\n",
            "[Parallel(n_jobs=1)]: Done 1000 out of 1000 | elapsed:   18.4s finished\n",
            "[Parallel(n_jobs=1)]: Using backend SequentialBackend with 1 concurrent workers.\n",
            "[Parallel(n_jobs=1)]: Done 1000 out of 1000 | elapsed:    1.0s finished\n",
            "[Parallel(n_jobs=1)]: Done   5 out of   5 | elapsed:  1.7min finished\n",
            "[Parallel(n_jobs=1)]: Using backend SequentialBackend with 1 concurrent workers.\n",
            "[Parallel(n_jobs=1)]: Done   5 out of   5 | elapsed:  2.7min finished\n"
          ]
        },
        {
          "output_type": "execute_result",
          "data": {
            "text/plain": [
              "StackingClassifier(estimators=[('lr',\n",
              "                                LogisticRegression(C=0.01, random_state=50,\n",
              "                                                   solver='liblinear')),\n",
              "                               ('rf',\n",
              "                                RandomForestClassifier(criterion='entropy',\n",
              "                                                       max_depth=18,\n",
              "                                                       n_estimators=1000,\n",
              "                                                       random_state=0,\n",
              "                                                       verbose=1,\n",
              "                                                       warm_start=True)),\n",
              "                               ('xgb',\n",
              "                                XGBClassifier(colsample_bytree=0.9,\n",
              "                                              max_depth=18, n_estimators=800,\n",
              "                                              nthread=10, subsample=0.9))],\n",
              "                   final_estimator=RandomForestClassifier(), verbose=1)"
            ]
          },
          "metadata": {},
          "execution_count": 36
        }
      ]
    },
    {
      "cell_type": "code",
      "source": [
        "# Best Stacked Model on Categorical Data\n",
        "ConfusionMatrixDisplay.from_estimator(Stacking_Model, X_test_Part_2, y_test_Part_2, cmap='Greens')"
      ],
      "metadata": {
        "colab": {
          "base_uri": "https://localhost:8080/",
          "height": 331
        },
        "id": "ghRFPTMzn3RL",
        "outputId": "26a07f99-2405-4a85-af9e-506ebea3b300"
      },
      "execution_count": null,
      "outputs": [
        {
          "output_type": "stream",
          "name": "stderr",
          "text": [
            "[Parallel(n_jobs=1)]: Using backend SequentialBackend with 1 concurrent workers.\n",
            "[Parallel(n_jobs=1)]: Done 1000 out of 1000 | elapsed:    1.6s finished\n"
          ]
        },
        {
          "output_type": "execute_result",
          "data": {
            "text/plain": [
              "<sklearn.metrics._plot.confusion_matrix.ConfusionMatrixDisplay at 0x7f54eae51a90>"
            ]
          },
          "metadata": {},
          "execution_count": 37
        },
        {
          "output_type": "display_data",
          "data": {
            "text/plain": [
              "<Figure size 432x288 with 2 Axes>"
            ],
            "image/png": "[encoded data removed]"
          },
          "metadata": {
            "needs_background": "light"
          }
        }
      ]
    },
    {
      "cell_type": "code",
      "source": [
        "# Best MLP Model on Text Data\n",
        "ConfusionMatrixDisplay.from_estimator(MLP_ADAM_Model, X_test, y_test, cmap='Greens')"
      ],
      "metadata": {
        "colab": {
          "base_uri": "https://localhost:8080/",
          "height": 296
        },
        "id": "-6U0pIYSn43D",
        "outputId": "e8704c8d-e065-49e2-e246-5cb2a76eebdd"
      },
      "execution_count": null,
      "outputs": [
        {
          "output_type": "execute_result",
          "data": {
            "text/plain": [
              "<sklearn.metrics._plot.confusion_matrix.ConfusionMatrixDisplay at 0x7f54e9739460>"
            ]
          },
          "metadata": {},
          "execution_count": 53
        },
        {
          "output_type": "display_data",
          "data": {
            "text/plain": [
              "<Figure size 432x288 with 2 Axes>"
            ],
            "image/png": "[encoded data removed]"
          },
          "metadata": {
            "needs_background": "light"
          }
        }
      ]
    },
    {
      "cell_type": "code",
      "source": [
        "# Getting Outputs\n",
        "y_pred_mlp = MLP_ADAM_Model.predict(X_test)\n",
        "y_pred_mlp_prob = MLP_ADAM_Model.predict_proba(X_test)\n",
        "y_pred_stacked = Stacking_Model.predict(X_test_Part_2)\n",
        "y_pred_stacked_prob = Stacking_Model.predict(X_test_Part_2)"
      ],
      "metadata": {
        "colab": {
          "base_uri": "https://localhost:8080/"
        },
        "id": "YAwCRE__n6QO",
        "outputId": "a8fb2266-0126-414e-c17b-ab3d75c0d416"
      },
      "execution_count": null,
      "outputs": [
        {
          "output_type": "stream",
          "name": "stderr",
          "text": [
            "[Parallel(n_jobs=1)]: Using backend SequentialBackend with 1 concurrent workers.\n",
            "[Parallel(n_jobs=1)]: Done 1000 out of 1000 | elapsed:    1.6s finished\n",
            "[Parallel(n_jobs=1)]: Using backend SequentialBackend with 1 concurrent workers.\n",
            "[Parallel(n_jobs=1)]: Done 1000 out of 1000 | elapsed:    1.6s finished\n"
          ]
        }
      ]
    },
    {
      "cell_type": "code",
      "source": [
        "# Hypertuning the Ensembled Model\n",
        "val = 0.900000\n",
        "accuracy_list = []\n",
        "val_list = []\n",
        "while val < 0.99999999:\n",
        "  y_pred_final = []\n",
        "  for idx in range(len(y_pred_mlp)):\n",
        "    if y_pred_mlp[idx] == 0:\n",
        "      y_pred_final.append(0)\n",
        "    else:\n",
        "      mlp_prob = y_pred_mlp_prob[idx]\n",
        "      stacked_prob = y_pred_stacked_prob[idx]\n",
        "      if(mlp_prob[1] > val):\n",
        "        y_pred_final.append(1)\n",
        "      else:\n",
        "        y_pred_final.append(stacked_prob)\n",
        "  val = val + 0.000005\n",
        "  accuracy_list.append(accuracy_score(y_pred=y_pred_final, y_true=y_test))\n",
        "  val_list.append(val)"
      ],
      "metadata": {
        "id": "d3U_awE5oF_v"
      },
      "execution_count": null,
      "outputs": []
    },
    {
      "cell_type": "code",
      "source": [
        "# Plotting Hyperparameter Value Update Graph\n",
        "plt.plot(val_list, accuracy_list, label='train')\n",
        "plt.title('Accuracy plot with changing probability Decision')\n",
        "plt.legend(loc=\"upper left\")\n",
        "plt.ylabel('Accuracy Value')\n",
        "plt.show()"
      ],
      "metadata": {
        "colab": {
          "base_uri": "https://localhost:8080/"
        },
        "id": "urPBtK1AoLX6",
        "outputId": "9e6bf45e-e43d-4c7b-8953-394c2d7b1ada"
      },
      "execution_count": null,
      "outputs": [
        {
          "output_type": "display_data",
          "data": {
            "text/plain": [
              "<Figure size 432x288 with 1 Axes>"
            ],
            "image/png": "[encoded data removed]"
          },
          "metadata": {
            "needs_background": "light"
          }
        }
      ]
    },
    {
      "cell_type": "code",
      "source": [
        "# Calculations of Predictions\n",
        "y_pred_final = []\n",
        "count = 0\n",
        "for idx in range(len(y_pred_mlp)):\n",
        "  if y_pred_mlp[idx] == 0:\n",
        "    y_pred_final.append(0)\n",
        "  else:\n",
        "    mlp_prob = y_pred_mlp_prob[idx]\n",
        "    stacked_prob = y_pred_stacked_prob[idx]\n",
        "    # print(\"Prob: \", format(mlp_prob[0], 'f'), \"and \", format(mlp_prob[1], 'f'), \", \", stacked_prob)\n",
        "    if(mlp_prob[1] > 0.99995):\n",
        "      y_pred_final.append(1)\n",
        "    else:\n",
        "      y_pred_final.append(stacked_prob)\n",
        "    if(stacked_prob == 0):\n",
        "      count = count + 1\n",
        "      # print(\"Prob: \", format(mlp_prob[0], 'f'), \"and \", format(mlp_prob[1], 'f'), \", \", stacked_prob)\n",
        "print(\"Count: \", count)"
      ],
      "metadata": {
        "colab": {
          "base_uri": "https://localhost:8080/"
        },
        "id": "ciuBzUpsn7pB",
        "outputId": "10c05161-2305-404c-ed3e-f72d0880fd07"
      },
      "execution_count": null,
      "outputs": [
        {
          "output_type": "stream",
          "name": "stdout",
          "text": [
            "Count:  97\n"
          ]
        }
      ]
    },
    {
      "cell_type": "code",
      "source": [
        "from matplotlib.cm import cmaps_listed\n",
        "# Load Libraries\n",
        "from sklearn.metrics import confusion_matrix, ConfusionMatrixDisplay\n",
        "\n",
        "ConfusionMatrixDisplay.from_predictions(y_test, y_pred_final, cmap=\"Greens\")"
      ],
      "metadata": {
        "colab": {
          "base_uri": "https://localhost:8080/"
        },
        "id": "_zIaAvevoATx",
        "outputId": "6609c584-d2d4-4a3b-958f-207a36dabb52"
      },
      "execution_count": null,
      "outputs": [
        {
          "output_type": "execute_result",
          "data": {
            "text/plain": [
              "<sklearn.metrics._plot.confusion_matrix.ConfusionMatrixDisplay at 0x7f54d7e135b0>"
            ]
          },
          "metadata": {},
          "execution_count": 58
        },
        {
          "output_type": "display_data",
          "data": {
            "text/plain": [
              "<Figure size 432x288 with 2 Axes>"
            ],
            "image/png": "[encoded data removed]"
          },
          "metadata": {
            "needs_background": "light"
          }
        }
      ]
    },
    {
      "cell_type": "code",
      "source": [
        "print(\"Accuracy Score: \", accuracy_score(y_pred=y_pred_final, y_true=y_test))"
      ],
      "metadata": {
        "colab": {
          "base_uri": "https://localhost:8080/"
        },
        "id": "mAcTcq6soBk5",
        "outputId": "732a53f7-cdf3-41c4-f20d-e6135891b581"
      },
      "execution_count": null,
      "outputs": [
        {
          "output_type": "stream",
          "name": "stdout",
          "text": [
            "Accuracy Score:  0.9987069472199365\n"
          ]
        }
      ]
    },
    {
      "cell_type": "markdown",
      "source": [
        "## **Part 5: Video Demonstration Content**"
      ],
      "metadata": {
        "id": "tajZSrBN33to"
      }
    },
    {
      "cell_type": "markdown",
      "source": [
        "**Outline of the Project**\n",
        " \n",
        "**Introduction and Data Introduction**\n",
        " \n",
        "The problem Statement is to Classify Jobs into Fraudulent and Not Fraudulent.\n",
        "The dataset we used was from Kaggle.\n",
        "Our team consists of 3 Members. Ram Yogesh Kolli, Anshul Shivhare, and Paloma Almodovar Gonzalez\n",
        " \n",
        "**EDA Results**\n",
        " \n",
        "During EDA we explored the Dataset and figured out the imbalance in the dataset also discussed how to overcome this and explored individual features as well.\n",
        " \n",
        "**Categorical Classification Models Results**\n",
        " \n",
        "We used only the Categorical Dataset. We tried to do the feature selection required to do the performance assessment and Best Results we got were from XG Boost after using all the catgorical features. Please note that we are using the Confusion Matrix as a Performance Criterion due to an Imbalance in the Dataset and we mostly focused on False Negatives and False Positives. The results are present in the Code.\n",
        " \n",
        "**NLP Models Performance Results**\n",
        " \n",
        "For this part, we used all the Text Information and Features available in the Dataset. We performed NLP Techniques on them and trained Classification Models on this Dataset. The best results we got were from Multi-Layer Perceptron Algorithm with Adam Solver. The results are present in the Code. Please note that we also did Hyperparameter tuning to select the best parameters.\n",
        " \n",
        "**Ensemble Graph Explanation and Results**\n",
        " \n",
        "For the ensemble, we need to explain the Flow Charts. Firstly the Stacked Model for Categorical Dataset,  and then we moved to Ensemble our Categorial Model with our NLP Model.\n",
        "<br>1.\n",
        "![Screenshot 2022-12-10 at 5.15.01 PM.png](data:image/png;base64,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)\n",
        "\n",
        "<br>2.<br>\n",
        "![Screenshot 2022-12-11 at 8.18.34 PM.png](data:image/png;base64,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) \n",
        "\n",
        "**Conclusion**\n",
        " \n",
        "In a conclusion, we were able to achieve 99.8% using our Ensemble technique and we were also able to reduce our False Negatives to 0.\n",
        " \n",
        "Thank You."
      ],
      "metadata": {
        "id": "e1qGEb2_66Cp"
      }
    }
  ]
}